{
 "cells": [
  {
   "cell_type": "markdown",
   "source": [
    "# Pandas入门教程"
   ],
   "metadata": {}
  },
  {
   "cell_type": "markdown",
   "source": [
    "## Pandas数据结构Series"
   ],
   "metadata": {}
  },
  {
   "cell_type": "markdown",
   "source": [
    "### 基本概念及创建"
   ],
   "metadata": {}
  },
  {
   "cell_type": "markdown",
   "source": [
    "·  \"一维数组\" Serise"
   ],
   "metadata": {}
  },
  {
   "cell_type": "code",
   "execution_count": 52,
   "source": [
    "# 加载 warnings\n",
    "import warnings\n",
    "# 忽略 warnings\n",
    "warnings.filterwarnings(\"ignore\")"
   ],
   "outputs": [],
   "metadata": {}
  },
  {
   "cell_type": "code",
   "execution_count": 53,
   "source": [
    "# Series 数据结构\n",
    "# Series 是带有标签的一维数组，可以保存任何数据类型（整数，字符串，浮点数，Python对象等）,轴标签统称为索引\n",
    "\n",
    "import numpy as np\n",
    "import pandas as pd  \n",
    "# 导入numpy、pandas模块\n",
    "\n",
    "s = pd.Series(np.random.rand(5))\n",
    "print(s)\n",
    "print(type(s))\n",
    "# 查看数据、数据类型\n",
    "\n",
    "print(s.index,type(s.index))\n",
    "print(s.values,type(s.values))\n",
    "# .index查看series索引，类型为rangeindex\n",
    "# .values查看series值，类型是ndarray\n",
    "\n",
    "# 核心：series相比于ndarray，是一个自带索引index的数组 → 一维数组 + 对应索引\n",
    "# 所以当只看series的值的时候，就是一个ndarray\n",
    "# series和ndarray较相似，索引切片功能差别不大\n",
    "# series和dict相比，series更像一个有顺序的字典（dict本身不存在顺序），其索引原理与字典相似（一个用key，一个用index）"
   ],
   "outputs": [
    {
     "output_type": "stream",
     "name": "stdout",
     "text": [
      "0    0.687475\n",
      "1    0.332387\n",
      "2    0.465565\n",
      "3    0.887671\n",
      "4    0.612980\n",
      "dtype: float64\n",
      "<class 'pandas.core.series.Series'>\n",
      "RangeIndex(start=0, stop=5, step=1) <class 'pandas.core.indexes.range.RangeIndex'>\n",
      "[0.68747527 0.33238654 0.46556507 0.88767074 0.61297977] <class 'numpy.ndarray'>\n"
     ]
    }
   ],
   "metadata": {}
  },
  {
   "cell_type": "code",
   "execution_count": 54,
   "source": [
    "# Series 创建方法一：由字典创建，字典的key就是index，values就是values\n",
    "\n",
    "dic = {'a':1 ,'b':2 , 'c':3, '4':4, '5':5}\n",
    "s = pd.Series(dic)\n",
    "print(s)\n",
    "# 注意：key肯定是字符串，假如values类型不止一个会怎么样？ → dic = {'a':1 ,'b':'hello' , 'c':3, '4':4, '5':5}\n"
   ],
   "outputs": [
    {
     "output_type": "stream",
     "name": "stdout",
     "text": [
      "a    1\n",
      "b    2\n",
      "c    3\n",
      "4    4\n",
      "5    5\n",
      "dtype: int64\n"
     ]
    }
   ],
   "metadata": {}
  },
  {
   "cell_type": "code",
   "execution_count": 55,
   "source": [
    "dic = {'a':1 ,'b':'hello' , 'c':3, '4':4, '5':5}\n",
    "s1 = pd.Series(dic)\n",
    "print(s1)"
   ],
   "outputs": [
    {
     "output_type": "stream",
     "name": "stdout",
     "text": [
      "a        1\n",
      "b    hello\n",
      "c        3\n",
      "4        4\n",
      "5        5\n",
      "dtype: object\n"
     ]
    }
   ],
   "metadata": {}
  },
  {
   "cell_type": "code",
   "execution_count": 56,
   "source": [
    "# Series 创建方法二：由数组创建(一维数组)\n",
    "\n",
    "arr = np.random.randn(5)\n",
    "s = pd.Series(arr)\n",
    "print(arr)\n",
    "print(s)\n",
    "# 默认index是从0开始，步长为1的数字\n",
    "\n",
    "s = pd.Series(arr, index = ['a','b','c','d','e'],dtype = np.object)\n",
    "print(s)\n",
    "# index参数：设置index，长度保持一致\n",
    "# dtype参数：设置数值类型"
   ],
   "outputs": [
    {
     "output_type": "stream",
     "name": "stdout",
     "text": [
      "[-0.39540109 -1.01682781  0.54579822 -0.71231947 -0.10807239]\n",
      "0   -0.395401\n",
      "1   -1.016828\n",
      "2    0.545798\n",
      "3   -0.712319\n",
      "4   -0.108072\n",
      "dtype: float64\n",
      "a   -0.395401\n",
      "b   -1.016828\n",
      "c    0.545798\n",
      "d   -0.712319\n",
      "e   -0.108072\n",
      "dtype: object\n"
     ]
    }
   ],
   "metadata": {}
  },
  {
   "cell_type": "code",
   "execution_count": 57,
   "source": [
    "# Series 创建方法三：由标量创建\n",
    "\n",
    "s = pd.Series(10, index = range(4))\n",
    "print(s)\n",
    "# 如果data是标量值，则必须提供索引。该值会重复，来匹配索引的长度"
   ],
   "outputs": [
    {
     "output_type": "stream",
     "name": "stdout",
     "text": [
      "0    10\n",
      "1    10\n",
      "2    10\n",
      "3    10\n",
      "dtype: int64\n"
     ]
    }
   ],
   "metadata": {}
  },
  {
   "cell_type": "code",
   "execution_count": 58,
   "source": [
    "# Series 名称属性：name\n",
    "\n",
    "s1 = pd.Series(np.random.randn(5))\n",
    "print(s1)\n",
    "print('-----')\n",
    "\n",
    "s2 = pd.Series(np.random.randn(5),name = 'test')\n",
    "print(s2)\n",
    "print(s1.name, s2.name,type(s2.name))\n",
    "print('-----')\n",
    "# name为Series的一个参数，创建一个数组的名称\n",
    "# .name方法：输出数组的名称，输出格式为str，如果没用定义输出名称，输出为None\n",
    "\n",
    "s3 = s2.rename('hehehe')\n",
    "print(s3)\n",
    "print(s3.name, s2.name)\n",
    "# .rename()重命名一个数组的名称，并且新指向一个数组，原数组不变"
   ],
   "outputs": [
    {
     "output_type": "stream",
     "name": "stdout",
     "text": [
      "0   -0.351462\n",
      "1   -0.630237\n",
      "2    0.713610\n",
      "3   -0.109334\n",
      "4   -0.547851\n",
      "dtype: float64\n",
      "-----\n",
      "0   -0.236991\n",
      "1   -0.827101\n",
      "2    0.424924\n",
      "3    0.358323\n",
      "4   -0.262699\n",
      "Name: test, dtype: float64\n",
      "None test <class 'str'>\n",
      "-----\n",
      "0   -0.236991\n",
      "1   -0.827101\n",
      "2    0.424924\n",
      "3    0.358323\n",
      "4   -0.262699\n",
      "Name: hehehe, dtype: float64\n",
      "hehehe test\n"
     ]
    }
   ],
   "metadata": {}
  },
  {
   "cell_type": "markdown",
   "source": [
    "### 索引"
   ],
   "metadata": {}
  },
  {
   "cell_type": "markdown",
   "source": [
    "·  位置下标 / 标签索引 / 切片索引 / 布尔型索引"
   ],
   "metadata": {}
  },
  {
   "cell_type": "code",
   "execution_count": 59,
   "source": [
    "# 位置下标，类似序列\n",
    "\n",
    "s = pd.Series(np.random.rand(5))\n",
    "print(s)\n",
    "print(s[0],type(s[0]),s[0].dtype)\n",
    "print(float(s[0]),type(float(s[0])))\n",
    "# print(s[-1])\n",
    "# 位置下标从0开始\n",
    "# 输出结果为numpy.float格式，\n",
    "# 可以通过float()函数转换为python float格式\n",
    "# numpy.float与float占用字节不同\n",
    "# s[-1]结果报错"
   ],
   "outputs": [
    {
     "output_type": "stream",
     "name": "stdout",
     "text": [
      "0    0.425414\n",
      "1    0.809294\n",
      "2    0.157225\n",
      "3    0.902232\n",
      "4    0.517839\n",
      "dtype: float64\n",
      "0.42541441203355146 <class 'numpy.float64'> float64\n",
      "0.42541441203355146 <class 'float'>\n"
     ]
    }
   ],
   "metadata": {}
  },
  {
   "cell_type": "code",
   "execution_count": 60,
   "source": [
    "# 标签索引\n",
    "\n",
    "s = pd.Series(np.random.rand(5), index = ['a','b','c','d','e'])\n",
    "print(s)\n",
    "print(s['a'],type(s['a']),s['a'].dtype)\n",
    "# 方法类似下标索引，用[]表示，内写上index，注意index是字符串\n",
    "\n",
    "sci = s[['a','b','e']]\n",
    "print(sci,type(sci))\n",
    "# 如果需要选择多个标签的值，用[[]]来表示（相当于[]中包含一个列表）\n",
    "# 多标签索引结果是新的数组"
   ],
   "outputs": [
    {
     "output_type": "stream",
     "name": "stdout",
     "text": [
      "a    0.714999\n",
      "b    0.942227\n",
      "c    0.886268\n",
      "d    0.883941\n",
      "e    0.577982\n",
      "dtype: float64\n",
      "0.7149993157843268 <class 'numpy.float64'> float64\n",
      "a    0.714999\n",
      "b    0.942227\n",
      "e    0.577982\n",
      "dtype: float64 <class 'pandas.core.series.Series'>\n"
     ]
    }
   ],
   "metadata": {}
  },
  {
   "cell_type": "code",
   "execution_count": 61,
   "source": [
    "# 切片索引\n",
    "\n",
    "s1 = pd.Series(np.random.rand(5))\n",
    "s2 = pd.Series(np.random.rand(5), index = ['a','b','c','d','e'])\n",
    "print(s1[1:4],s1[4])\n",
    "print(s2['a':'c'],s2['c'])\n",
    "print(s2[0:3],s2[3])\n",
    "print('-----')\n",
    "# 注意：用index做切片是末端包含\n",
    "\n",
    "print(s2[:-1])\n",
    "print(s2[::2])\n",
    "# 下标索引做切片，和list写法一样"
   ],
   "outputs": [
    {
     "output_type": "stream",
     "name": "stdout",
     "text": [
      "1    0.882572\n",
      "2    0.856877\n",
      "3    0.795803\n",
      "dtype: float64 0.14013391535258768\n",
      "a    0.414702\n",
      "b    0.101457\n",
      "c    0.008465\n",
      "dtype: float64 0.008465213443077158\n",
      "a    0.414702\n",
      "b    0.101457\n",
      "c    0.008465\n",
      "dtype: float64 0.36615341740744467\n",
      "-----\n",
      "a    0.414702\n",
      "b    0.101457\n",
      "c    0.008465\n",
      "d    0.366153\n",
      "dtype: float64\n",
      "a    0.414702\n",
      "c    0.008465\n",
      "e    0.965215\n",
      "dtype: float64\n"
     ]
    }
   ],
   "metadata": {}
  },
  {
   "cell_type": "code",
   "execution_count": 62,
   "source": [
    "# 布尔型索引\n",
    "\n",
    "s = pd.Series(np.random.rand(3)*100)\n",
    "s[4] = None  # 添加一个空值\n",
    "print(s)\n",
    "bs1 = s > 50\n",
    "bs2 = s.isnull()\n",
    "bs3 = s.notnull()\n",
    "print(bs1, type(bs1), bs1.dtype)\n",
    "print(bs2, type(bs2), bs2.dtype)\n",
    "print(bs3, type(bs3), bs3.dtype)\n",
    "print('-----')\n",
    "# 数组做判断之后，返回的是一个由布尔值组成的新的数组\n",
    "# .isnull() / .notnull() 判断是否为空值 (None代表空值，NaN代表有问题的数值，两个都会识别为空值)\n",
    "\n",
    "print(s[s > 50])\n",
    "print(s[bs3])\n",
    "# 布尔型索引方法：用[判断条件]表示，其中判断条件可以是 一个语句，或者是 一个布尔型数组！"
   ],
   "outputs": [
    {
     "output_type": "stream",
     "name": "stdout",
     "text": [
      "0    56.142924\n",
      "1     0.078325\n",
      "2    90.618158\n",
      "4         None\n",
      "dtype: object\n",
      "0     True\n",
      "1    False\n",
      "2     True\n",
      "4    False\n",
      "dtype: bool <class 'pandas.core.series.Series'> bool\n",
      "0    False\n",
      "1    False\n",
      "2    False\n",
      "4     True\n",
      "dtype: bool <class 'pandas.core.series.Series'> bool\n",
      "0     True\n",
      "1     True\n",
      "2     True\n",
      "4    False\n",
      "dtype: bool <class 'pandas.core.series.Series'> bool\n",
      "-----\n",
      "0    56.142924\n",
      "2    90.618158\n",
      "dtype: object\n",
      "0    56.142924\n",
      "1     0.078325\n",
      "2    90.618158\n",
      "dtype: object\n"
     ]
    }
   ],
   "metadata": {}
  },
  {
   "cell_type": "markdown",
   "source": [
    "### 基本技巧"
   ],
   "metadata": {}
  },
  {
   "cell_type": "markdown",
   "source": [
    "·  数据查看 / 重新索引 / 对齐 / 添加、修改、删除值"
   ],
   "metadata": {}
  },
  {
   "cell_type": "code",
   "execution_count": 63,
   "source": [
    "# 数据查看\n",
    "\n",
    "s = pd.Series(np.random.rand(50))\n",
    "print(s.head(10))\n",
    "print(s.tail())\n",
    "# .head()查看头部数据\n",
    "# .tail()查看尾部数据\n",
    "# 默认查看5条"
   ],
   "outputs": [
    {
     "output_type": "stream",
     "name": "stdout",
     "text": [
      "0    0.473220\n",
      "1    0.184104\n",
      "2    0.168264\n",
      "3    0.139503\n",
      "4    0.407624\n",
      "5    0.242820\n",
      "6    0.647616\n",
      "7    0.810137\n",
      "8    0.708111\n",
      "9    0.563638\n",
      "dtype: float64\n",
      "45    0.615975\n",
      "46    0.625866\n",
      "47    0.377655\n",
      "48    0.919607\n",
      "49    0.420956\n",
      "dtype: float64\n"
     ]
    }
   ],
   "metadata": {}
  },
  {
   "cell_type": "code",
   "execution_count": 64,
   "source": [
    "# 重新索引reindex\n",
    "# .reindex将会根据索引重新排序，如果当前索引不存在，则引入缺失值\n",
    "\n",
    "s = pd.Series(np.random.rand(3), index = ['a','b','c'])\n",
    "print(s)\n",
    "s1 = s.reindex(['c','b','a','d'])\n",
    "print(s1)\n",
    "# .reindex()中也是写列表\n",
    "# 这里'd'索引不存在，所以值为NaN\n",
    "\n",
    "s2 = s.reindex(['c','b','a','d'], fill_value = 0)\n",
    "print(s2)\n",
    "# fill_value参数：填充缺失值的值"
   ],
   "outputs": [
    {
     "output_type": "stream",
     "name": "stdout",
     "text": [
      "a    0.769374\n",
      "b    0.383363\n",
      "c    0.150213\n",
      "dtype: float64\n",
      "c    0.150213\n",
      "b    0.383363\n",
      "a    0.769374\n",
      "d         NaN\n",
      "dtype: float64\n",
      "c    0.150213\n",
      "b    0.383363\n",
      "a    0.769374\n",
      "d    0.000000\n",
      "dtype: float64\n"
     ]
    }
   ],
   "metadata": {}
  },
  {
   "cell_type": "code",
   "execution_count": 65,
   "source": [
    "# Series对齐\n",
    "\n",
    "s1 = pd.Series(np.random.rand(3), index = ['Jack','Marry','Tom'])\n",
    "s2 = pd.Series(np.random.rand(3), index = ['Wang','Jack','Marry'])\n",
    "print(s1)\n",
    "print(s2)\n",
    "print(s1+s2)\n",
    "# Series 和 ndarray 之间的主要区别是，Series 上的操作会根据标签自动对齐\n",
    "# index顺序不会影响数值计算，以标签来计算\n",
    "# 空值和任何值计算结果扔为空值"
   ],
   "outputs": [
    {
     "output_type": "stream",
     "name": "stdout",
     "text": [
      "Jack     0.026242\n",
      "Marry    0.968196\n",
      "Tom      0.349379\n",
      "dtype: float64\n",
      "Wang     0.655775\n",
      "Jack     0.987829\n",
      "Marry    0.199991\n",
      "dtype: float64\n",
      "Jack     1.014072\n",
      "Marry    1.168188\n",
      "Tom           NaN\n",
      "Wang          NaN\n",
      "dtype: float64\n"
     ]
    }
   ],
   "metadata": {}
  },
  {
   "cell_type": "code",
   "execution_count": 66,
   "source": [
    "# 删除：.drop\n",
    "\n",
    "s = pd.Series(np.random.rand(5), index = list('ngjur'))\n",
    "print(s)\n",
    "s1 = s.drop('n')\n",
    "s2 = s.drop(['g','j'])\n",
    "print(s1)\n",
    "print(s2)\n",
    "print(s)\n",
    "# drop 删除元素之后返回副本(inplace=False)"
   ],
   "outputs": [
    {
     "output_type": "stream",
     "name": "stdout",
     "text": [
      "n    0.759978\n",
      "g    0.894387\n",
      "j    0.561657\n",
      "u    0.086544\n",
      "r    0.296333\n",
      "dtype: float64\n",
      "g    0.894387\n",
      "j    0.561657\n",
      "u    0.086544\n",
      "r    0.296333\n",
      "dtype: float64\n",
      "n    0.759978\n",
      "u    0.086544\n",
      "r    0.296333\n",
      "dtype: float64\n",
      "n    0.759978\n",
      "g    0.894387\n",
      "j    0.561657\n",
      "u    0.086544\n",
      "r    0.296333\n",
      "dtype: float64\n"
     ]
    }
   ],
   "metadata": {}
  },
  {
   "cell_type": "code",
   "execution_count": 67,
   "source": [
    "# 添加\n",
    "\n",
    "s1 = pd.Series(np.random.rand(5))\n",
    "s2 = pd.Series(np.random.rand(5), index = list('ngjur'))\n",
    "print(s1)\n",
    "print(s2)\n",
    "s1[5] = 100\n",
    "s2['a'] = 100\n",
    "print(s1)\n",
    "print(s2)\n",
    "# 直接通过下标索引/标签index添加值\n"
   ],
   "outputs": [
    {
     "output_type": "stream",
     "name": "stdout",
     "text": [
      "0    0.784318\n",
      "1    0.799917\n",
      "2    0.192172\n",
      "3    0.012385\n",
      "4    0.488870\n",
      "dtype: float64\n",
      "n    0.244972\n",
      "g    0.140022\n",
      "j    0.316481\n",
      "u    0.755640\n",
      "r    0.621679\n",
      "dtype: float64\n",
      "0      0.784318\n",
      "1      0.799917\n",
      "2      0.192172\n",
      "3      0.012385\n",
      "4      0.488870\n",
      "5    100.000000\n",
      "dtype: float64\n",
      "n      0.244972\n",
      "g      0.140022\n",
      "j      0.316481\n",
      "u      0.755640\n",
      "r      0.621679\n",
      "a    100.000000\n",
      "dtype: float64\n"
     ]
    }
   ],
   "metadata": {}
  },
  {
   "cell_type": "code",
   "execution_count": 68,
   "source": [
    "s3 = s1.append(s2)\n",
    "print(s3)\n",
    "print(s1)\n",
    "# 通过.append方法，直接添加一个数组\n",
    "# .append方法生成一个新的数组，不改变之前的数组"
   ],
   "outputs": [
    {
     "output_type": "stream",
     "name": "stdout",
     "text": [
      "0      0.784318\n",
      "1      0.799917\n",
      "2      0.192172\n",
      "3      0.012385\n",
      "4      0.488870\n",
      "5    100.000000\n",
      "n      0.244972\n",
      "g      0.140022\n",
      "j      0.316481\n",
      "u      0.755640\n",
      "r      0.621679\n",
      "a    100.000000\n",
      "dtype: float64\n",
      "0      0.784318\n",
      "1      0.799917\n",
      "2      0.192172\n",
      "3      0.012385\n",
      "4      0.488870\n",
      "5    100.000000\n",
      "dtype: float64\n"
     ]
    }
   ],
   "metadata": {}
  },
  {
   "cell_type": "code",
   "execution_count": 69,
   "source": [
    "# 修改\n",
    "\n",
    "s = pd.Series(np.random.rand(3), index = ['a','b','c'])\n",
    "print(s)\n",
    "s['a'] = 100\n",
    "s[['b','c']] = 200\n",
    "print(s)\n",
    "# 通过索引直接修改，类似序列"
   ],
   "outputs": [
    {
     "output_type": "stream",
     "name": "stdout",
     "text": [
      "a    0.429640\n",
      "b    0.065423\n",
      "c    0.514749\n",
      "dtype: float64\n",
      "a    100.0\n",
      "b    200.0\n",
      "c    200.0\n",
      "dtype: float64\n"
     ]
    }
   ],
   "metadata": {}
  },
  {
   "cell_type": "markdown",
   "source": [
    "## Pandas数据结构Dataframe"
   ],
   "metadata": {}
  },
  {
   "cell_type": "markdown",
   "source": [
    "### 基本概念及创建"
   ],
   "metadata": {}
  },
  {
   "cell_type": "markdown",
   "source": [
    "·  \"二维数组\"Dataframe：是一个表格型的数据结构，包含一组有序的列，其列的值类型可以是数值、字符串、布尔值等。\n",
    "\n",
    "·  Dataframe中的数据以一个或多个二维块存放，不是列表、字典或一维数组结构。"
   ],
   "metadata": {}
  },
  {
   "cell_type": "code",
   "execution_count": 70,
   "source": [
    "# Dataframe 数据结构\n",
    "# Dataframe是一个表格型的数据结构，“带有标签的二维数组”。\n",
    "# Dataframe带有index（行标签）和columns（列标签）\n",
    "\n",
    "data = {'name':['Jack','Tom','Mary'],\n",
    "        'age':[18,19,20],\n",
    "       'gender':['m','m','w']}\n",
    "frame = pd.DataFrame(data)\n",
    "print(frame)  \n",
    "print(type(frame))\n",
    "print(frame.index,'\\n该数据类型为：',type(frame.index))\n",
    "print(frame.columns,'\\n该数据类型为：',type(frame.columns))\n",
    "print(frame.values,'\\n该数据类型为：',type(frame.values))\n",
    "# 查看数据，数据类型为dataframe\n",
    "# .index查看行标签\n",
    "# .columns查看列标签\n",
    "# .values查看值，数据类型为ndarray"
   ],
   "outputs": [
    {
     "output_type": "stream",
     "name": "stdout",
     "text": [
      "   name  age gender\n",
      "0  Jack   18      m\n",
      "1   Tom   19      m\n",
      "2  Mary   20      w\n",
      "<class 'pandas.core.frame.DataFrame'>\n",
      "RangeIndex(start=0, stop=3, step=1) \n",
      "该数据类型为： <class 'pandas.core.indexes.range.RangeIndex'>\n",
      "Index(['name', 'age', 'gender'], dtype='object') \n",
      "该数据类型为： <class 'pandas.core.indexes.base.Index'>\n",
      "[['Jack' 18 'm']\n",
      " ['Tom' 19 'm']\n",
      " ['Mary' 20 'w']] \n",
      "该数据类型为： <class 'numpy.ndarray'>\n"
     ]
    }
   ],
   "metadata": {}
  },
  {
   "cell_type": "code",
   "execution_count": 71,
   "source": [
    "# Dataframe 创建方法一：由数组/list组成的字典\n",
    "# 创建方法:pandas.Dataframe()\n",
    "\n",
    "data1 = {'a':[1,2,3],\n",
    "        'b':[3,4,5],\n",
    "        'c':[5,6,7]}\n",
    "data2 = {'one':np.random.rand(3),\n",
    "        'two':np.random.rand(3)}   # 这里如果尝试  'two':np.random.rand(4) 会怎么样？\n",
    "print(data1)\n",
    "print(data2)\n",
    "df1 = pd.DataFrame(data1)\n",
    "df2 = pd.DataFrame(data2)\n",
    "print(df1)\n",
    "print(df2)\n",
    "# 由数组/list组成的字典 创建Dataframe，columns为字典key，index为默认数字标签\n",
    "# 字典的值的长度必须保持一致！\n",
    "\n",
    "df1 = pd.DataFrame(data1, columns = ['b','c','a','d'])\n",
    "print(df1)\n",
    "df1 = pd.DataFrame(data1, columns = ['b','c'])\n",
    "print(df1)\n",
    "# columns参数：可以重新指定列的顺序，格式为list，如果现有数据中没有该列（比如'd'），则产生NaN值\n",
    "# 如果columns重新指定时候，列的数量可以少于原数据\n",
    "\n",
    "df2 = pd.DataFrame(data2, index = ['f1','f2','f3'])  # 这里如果尝试  index = ['f1','f2','f3','f4'] 会怎么样？\n",
    "print(df2)\n",
    "# index参数：重新定义index，格式为list，长度必须保持一致"
   ],
   "outputs": [
    {
     "output_type": "stream",
     "name": "stdout",
     "text": [
      "{'a': [1, 2, 3], 'b': [3, 4, 5], 'c': [5, 6, 7]}\n",
      "{'one': array([0.7039866 , 0.99742156, 0.51653178]), 'two': array([0.62155285, 0.15952657, 0.08883507])}\n",
      "   a  b  c\n",
      "0  1  3  5\n",
      "1  2  4  6\n",
      "2  3  5  7\n",
      "        one       two\n",
      "0  0.703987  0.621553\n",
      "1  0.997422  0.159527\n",
      "2  0.516532  0.088835\n",
      "   b  c  a    d\n",
      "0  3  5  1  NaN\n",
      "1  4  6  2  NaN\n",
      "2  5  7  3  NaN\n",
      "   b  c\n",
      "0  3  5\n",
      "1  4  6\n",
      "2  5  7\n",
      "         one       two\n",
      "f1  0.703987  0.621553\n",
      "f2  0.997422  0.159527\n",
      "f3  0.516532  0.088835\n"
     ]
    }
   ],
   "metadata": {}
  },
  {
   "cell_type": "code",
   "execution_count": 72,
   "source": [
    "# Dataframe 创建方法二：由Series组成的字典\n",
    "\n",
    "data1 = {'one':pd.Series(np.random.rand(2)),\n",
    "        'two':pd.Series(np.random.rand(3))}  # 没有设置index的Series\n",
    "data2 = {'one':pd.Series(np.random.rand(2), index = ['a','b']),\n",
    "        'two':pd.Series(np.random.rand(3),index = ['a','b','c'])}  # 设置了index的Series\n",
    "print(data1)\n",
    "print(data2)\n",
    "df1 = pd.DataFrame(data1)\n",
    "df2 = pd.DataFrame(data2)\n",
    "print(df1)\n",
    "print(df2)\n",
    "# 由Seris组成的字典 创建Dataframe，columns为字典key，index为Series的标签（如果Series没有指定标签，则是默认数字标签）\n",
    "# Series可以长度不一样，生成的Dataframe会出现NaN值"
   ],
   "outputs": [
    {
     "output_type": "stream",
     "name": "stdout",
     "text": [
      "{'one': 0    0.013035\n",
      "1    0.112282\n",
      "dtype: float64, 'two': 0    0.797866\n",
      "1    0.791244\n",
      "2    0.865227\n",
      "dtype: float64}\n",
      "{'one': a    0.507570\n",
      "b    0.068965\n",
      "dtype: float64, 'two': a    0.890499\n",
      "b    0.183775\n",
      "c    0.501708\n",
      "dtype: float64}\n",
      "        one       two\n",
      "0  0.013035  0.797866\n",
      "1  0.112282  0.791244\n",
      "2       NaN  0.865227\n",
      "        one       two\n",
      "a  0.507570  0.890499\n",
      "b  0.068965  0.183775\n",
      "c       NaN  0.501708\n"
     ]
    }
   ],
   "metadata": {}
  },
  {
   "cell_type": "code",
   "execution_count": 73,
   "source": [
    "# Dataframe 创建方法三：通过二维数组直接创建\n",
    "\n",
    "ar = np.random.rand(9).reshape(3,3)\n",
    "print(ar)\n",
    "df1 = pd.DataFrame(ar)\n",
    "df2 = pd.DataFrame(ar, index = ['a', 'b', 'c'], columns = ['one','two','three'])  # 可以尝试一下index或columns长度不等于已有数组的情况\n",
    "print(df1)\n",
    "print(df2)\n",
    "# 通过二维数组直接创建Dataframe，得到一样形状的结果数据，如果不指定index和columns，两者均返回默认数字格式\n",
    "# index和colunms指定长度与原数组保持一致"
   ],
   "outputs": [
    {
     "output_type": "stream",
     "name": "stdout",
     "text": [
      "[[0.40126787 0.00778005 0.40211039]\n",
      " [0.41419995 0.55344299 0.55857002]\n",
      " [0.03539845 0.82070262 0.18320847]]\n",
      "          0         1         2\n",
      "0  0.401268  0.007780  0.402110\n",
      "1  0.414200  0.553443  0.558570\n",
      "2  0.035398  0.820703  0.183208\n",
      "        one       two     three\n",
      "a  0.401268  0.007780  0.402110\n",
      "b  0.414200  0.553443  0.558570\n",
      "c  0.035398  0.820703  0.183208\n"
     ]
    }
   ],
   "metadata": {}
  },
  {
   "cell_type": "code",
   "execution_count": 74,
   "source": [
    "# Dataframe 创建方法四：由字典组成的列表\n",
    "\n",
    "data = [{'one': 1, 'two': 2}, {'one': 5, 'two': 10, 'three': 20}]\n",
    "print(data)\n",
    "df1 = pd.DataFrame(data)\n",
    "df2 = pd.DataFrame(data, index = ['a','b'])\n",
    "df3 = pd.DataFrame(data, columns = ['one','two'])\n",
    "print(df1)\n",
    "print(df2)\n",
    "print(df3)\n",
    "# 由字典组成的列表创建Dataframe，columns为字典的key，index不做指定则为默认数组标签\n",
    "# colunms和index参数分别重新指定相应列及行标签"
   ],
   "outputs": [
    {
     "output_type": "stream",
     "name": "stdout",
     "text": [
      "[{'one': 1, 'two': 2}, {'one': 5, 'two': 10, 'three': 20}]\n",
      "   one  two  three\n",
      "0    1    2    NaN\n",
      "1    5   10   20.0\n",
      "   one  two  three\n",
      "a    1    2    NaN\n",
      "b    5   10   20.0\n",
      "   one  two\n",
      "0    1    2\n",
      "1    5   10\n"
     ]
    }
   ],
   "metadata": {}
  },
  {
   "cell_type": "code",
   "execution_count": 75,
   "source": [
    "data = {'Jack':{'math':90,'english':89,'art':78},\n",
    "       'Marry':{'math':82,'english':95,'art':92},\n",
    "       'Tom':{'math':78,'english':67}}\n",
    "df1 = pd.DataFrame(data)\n",
    "print(df1)\n",
    "# 由字典组成的字典创建Dataframe，columns为字典的key，index为子字典的key\n",
    "\n",
    "df2 = pd.DataFrame(data, columns = ['Jack','Tom','Bob'])\n",
    "df3 = pd.DataFrame(data, index = ['a','b','c'])\n",
    "print(df2)\n",
    "print(df3)\n",
    "# columns参数可以增加和减少现有列，如出现新的列，值为NaN\n",
    "# index在这里和之前不同，并不能改变原有index，如果指向新的标签，值为NaN （非常重要！）"
   ],
   "outputs": [
    {
     "output_type": "stream",
     "name": "stdout",
     "text": [
      "         Jack  Marry   Tom\n",
      "math       90     82  78.0\n",
      "english    89     95  67.0\n",
      "art        78     92   NaN\n",
      "         Jack   Tom  Bob\n",
      "math       90  78.0  NaN\n",
      "english    89  67.0  NaN\n",
      "art        78   NaN  NaN\n",
      "   Jack  Marry  Tom\n",
      "a   NaN    NaN  NaN\n",
      "b   NaN    NaN  NaN\n",
      "c   NaN    NaN  NaN\n"
     ]
    }
   ],
   "metadata": {}
  },
  {
   "cell_type": "markdown",
   "source": [
    "### 索引"
   ],
   "metadata": {}
  },
  {
   "cell_type": "markdown",
   "source": [
    "·  Dataframe既有行索引也有列索引，可以被看做由Series组成的字典（共用一个索引）\n",
    "\n",
    "·  选择列 / 选择行 / 切片 / 布尔判断"
   ],
   "metadata": {}
  },
  {
   "cell_type": "code",
   "execution_count": 76,
   "source": [
    "# 选择行与列\n",
    "\n",
    "df = pd.DataFrame(np.random.rand(12).reshape(3,4)*100,\n",
    "                   index = ['one','two','three'],\n",
    "                   columns = ['a','b','c','d'])\n",
    "print(df)\n",
    "\n",
    "data1 = df['a']\n",
    "data2 = df[['a','c']]\n",
    "print(data1,type(data1))\n",
    "print(data2,type(data2))\n",
    "print('-----')\n",
    "# 按照列名选择列，只选择一列输出Series，选择多列输出Dataframe\n",
    "\n",
    "data3 = df.loc['one']\n",
    "data4 = df.loc[['one','two']]\n",
    "print(data2,type(data3))\n",
    "print(data3,type(data4))\n",
    "# 按照index选择行，只选择一行输出Series，选择多行输出Dataframe"
   ],
   "outputs": [
    {
     "output_type": "stream",
     "name": "stdout",
     "text": [
      "               a          b          c          d\n",
      "one    62.178416  10.866211  22.705809  97.411380\n",
      "two    17.843636  88.268542  23.874595  14.402924\n",
      "three  39.856692  18.567988  49.358257  74.927023\n",
      "one      62.178416\n",
      "two      17.843636\n",
      "three    39.856692\n",
      "Name: a, dtype: float64 <class 'pandas.core.series.Series'>\n",
      "               a          c\n",
      "one    62.178416  22.705809\n",
      "two    17.843636  23.874595\n",
      "three  39.856692  49.358257 <class 'pandas.core.frame.DataFrame'>\n",
      "-----\n",
      "               a          c\n",
      "one    62.178416  22.705809\n",
      "two    17.843636  23.874595\n",
      "three  39.856692  49.358257 <class 'pandas.core.series.Series'>\n",
      "a    62.178416\n",
      "b    10.866211\n",
      "c    22.705809\n",
      "d    97.411380\n",
      "Name: one, dtype: float64 <class 'pandas.core.frame.DataFrame'>\n"
     ]
    }
   ],
   "metadata": {}
  },
  {
   "cell_type": "code",
   "execution_count": 77,
   "source": [
    "# df[] - 选择列\n",
    "# 一般用于选择列，也可以选择行\n",
    "\n",
    "df = pd.DataFrame(np.random.rand(12).reshape(3,4)*100,\n",
    "                   index = ['one','two','three'],\n",
    "                   columns = ['a','b','c','d'])\n",
    "print(df)\n",
    "print('-----')\n",
    "\n",
    "data1 = df['a']\n",
    "data2 = df[['b','c']]  # 尝试输入 data2 = df[['b','c','e']]\n",
    "print(data1)\n",
    "print(data2)\n",
    "# df[]默认选择列，[]中写列名（所以一般数据colunms都会单独制定，不会用默认数字列名，以免和index冲突）\n",
    "# 单选列为Series，print结果为Series格式\n",
    "# 多选列为Dataframe，print结果为Dataframe格式\n",
    "\n",
    "data3 = df[:1]\n",
    "#data3 = df[0]\n",
    "#data3 = df['one']\n",
    "print(data3,type(data3))\n",
    "# df[]中为数字时，默认选择行，且只能进行切片的选择，不能单独选择（df[0]）\n",
    "# 输出结果为Dataframe，即便只选择一行\n",
    "# df[]不能通过索引标签名来选择行(df['one'])\n",
    "\n",
    "# 核心笔记：df[col]一般用于选择列，[]中写列名"
   ],
   "outputs": [
    {
     "output_type": "stream",
     "name": "stdout",
     "text": [
      "               a          b          c          d\n",
      "one    73.892498  52.400705  89.283016  67.411239\n",
      "two    11.551613  64.921923  55.953217  60.307580\n",
      "three  92.666895  41.253448  18.742035  94.057991\n",
      "-----\n",
      "one      73.892498\n",
      "two      11.551613\n",
      "three    92.666895\n",
      "Name: a, dtype: float64\n",
      "               b          c\n",
      "one    52.400705  89.283016\n",
      "two    64.921923  55.953217\n",
      "three  41.253448  18.742035\n",
      "             a          b          c          d\n",
      "one  73.892498  52.400705  89.283016  67.411239 <class 'pandas.core.frame.DataFrame'>\n"
     ]
    }
   ],
   "metadata": {}
  },
  {
   "cell_type": "code",
   "execution_count": 78,
   "source": [
    "# df.loc[] - 按index选择行\n",
    "\n",
    "df1 = pd.DataFrame(np.random.rand(16).reshape(4,4)*100,\n",
    "                   index = ['one','two','three','four'],\n",
    "                   columns = ['a','b','c','d'])\n",
    "df2 = pd.DataFrame(np.random.rand(16).reshape(4,4)*100,\n",
    "                   columns = ['a','b','c','d'])\n",
    "print(df1)\n",
    "print(df2)\n",
    "print('-----\\n单标签索引')\n",
    "\n",
    "data1 = df1.loc['one']\n",
    "data2 = df2.loc[1]\n",
    "print(data1)\n",
    "print(data2)\n",
    "print('-----\\n多标签索引')\n",
    "# 单个标签索引，返回Series\n",
    "\n",
    "data3 = df1.loc[['two','three','four']]\n",
    "data4 = df2.loc[[3,2,1]]\n",
    "print(data3)\n",
    "print(data4)\n",
    "print('-----\\n切片索引')\n",
    "# 多个标签索引，如果标签不存在，则返回NaN\n",
    "# 顺序可变\n",
    "\n",
    "data5 = df1.loc['one':'three']\n",
    "data6 = df2.loc[1:3]\n",
    "print(data5)\n",
    "print(data6)\n",
    "# 可以做切片对象\n",
    "# 末端包含\n",
    "\n",
    "# 核心笔记：df.loc[label]主要针对index选择行，同时支持指定index，及默认数字index"
   ],
   "outputs": [
    {
     "output_type": "stream",
     "name": "stdout",
     "text": [
      "               a          b          c          d\n",
      "one    38.252891  42.540984   1.483950  19.380668\n",
      "two    14.764126  50.068039  72.023387  58.438388\n",
      "three  32.966292  12.444660  91.955890  14.020546\n",
      "four   66.410932  58.643123  24.391450  47.238996\n",
      "           a          b          c          d\n",
      "0  84.011871  53.043255   7.491432  81.043246\n",
      "1  93.834313  89.636737  86.928736  95.036776\n",
      "2  65.605651  95.258372  37.020742  77.224788\n",
      "3  95.473795   4.208436  96.483744  84.803503\n",
      "-----\n",
      "单标签索引\n",
      "a    38.252891\n",
      "b    42.540984\n",
      "c     1.483950\n",
      "d    19.380668\n",
      "Name: one, dtype: float64\n",
      "a    93.834313\n",
      "b    89.636737\n",
      "c    86.928736\n",
      "d    95.036776\n",
      "Name: 1, dtype: float64\n",
      "-----\n",
      "多标签索引\n",
      "               a          b          c          d\n",
      "two    14.764126  50.068039  72.023387  58.438388\n",
      "three  32.966292  12.444660  91.955890  14.020546\n",
      "four   66.410932  58.643123  24.391450  47.238996\n",
      "           a          b          c          d\n",
      "3  95.473795   4.208436  96.483744  84.803503\n",
      "2  65.605651  95.258372  37.020742  77.224788\n",
      "1  93.834313  89.636737  86.928736  95.036776\n",
      "-----\n",
      "切片索引\n",
      "               a          b          c          d\n",
      "one    38.252891  42.540984   1.483950  19.380668\n",
      "two    14.764126  50.068039  72.023387  58.438388\n",
      "three  32.966292  12.444660  91.955890  14.020546\n",
      "           a          b          c          d\n",
      "1  93.834313  89.636737  86.928736  95.036776\n",
      "2  65.605651  95.258372  37.020742  77.224788\n",
      "3  95.473795   4.208436  96.483744  84.803503\n"
     ]
    }
   ],
   "metadata": {}
  },
  {
   "cell_type": "code",
   "execution_count": 79,
   "source": [
    "# df.iloc[] - 按照整数位置（从轴的0到length-1）选择行\n",
    "# 类似list的索引，其顺序就是dataframe的整数位置，从0开始计\n",
    "\n",
    "df = pd.DataFrame(np.random.rand(16).reshape(4,4)*100,\n",
    "                   index = ['one','two','three','four'],\n",
    "                   columns = ['a','b','c','d'])\n",
    "print(df)\n",
    "print('------\\n单位置索引')\n",
    "\n",
    "print(df.iloc[0])\n",
    "print(df.iloc[-1])\n",
    "#print(df.iloc[4])\n",
    "print('-----\\n多位置索引')\n",
    "# 单位置索引\n",
    "# 和loc索引不同，不能索引超出数据行数的整数位置\n",
    "\n",
    "print(df.iloc[[0,2]])\n",
    "print(df.iloc[[3,2,1]])\n",
    "print('-----\\n切片索引')\n",
    "# 多位置索引\n",
    "# 顺序可变\n",
    "\n",
    "print(df.iloc[1:3])\n",
    "print(df.iloc[::2])\n",
    "# 切片索引\n",
    "# 末端不包含"
   ],
   "outputs": [
    {
     "output_type": "stream",
     "name": "stdout",
     "text": [
      "               a          b          c          d\n",
      "one    82.667829  11.925819  62.625331  80.468987\n",
      "two    98.986069  90.611696  11.492198  57.758644\n",
      "three  55.554739  89.773040   9.200212  50.882403\n",
      "four   86.479424  15.985514  45.853709  38.097435\n",
      "------\n",
      "单位置索引\n",
      "a    82.667829\n",
      "b    11.925819\n",
      "c    62.625331\n",
      "d    80.468987\n",
      "Name: one, dtype: float64\n",
      "a    86.479424\n",
      "b    15.985514\n",
      "c    45.853709\n",
      "d    38.097435\n",
      "Name: four, dtype: float64\n",
      "-----\n",
      "多位置索引\n",
      "               a          b          c          d\n",
      "one    82.667829  11.925819  62.625331  80.468987\n",
      "three  55.554739  89.773040   9.200212  50.882403\n",
      "               a          b          c          d\n",
      "four   86.479424  15.985514  45.853709  38.097435\n",
      "three  55.554739  89.773040   9.200212  50.882403\n",
      "two    98.986069  90.611696  11.492198  57.758644\n",
      "-----\n",
      "切片索引\n",
      "               a          b          c          d\n",
      "two    98.986069  90.611696  11.492198  57.758644\n",
      "three  55.554739  89.773040   9.200212  50.882403\n",
      "               a          b          c          d\n",
      "one    82.667829  11.925819  62.625331  80.468987\n",
      "three  55.554739  89.773040   9.200212  50.882403\n"
     ]
    }
   ],
   "metadata": {}
  },
  {
   "cell_type": "code",
   "execution_count": 80,
   "source": [
    "# 布尔型索引\n",
    "# 和Series原理相同\n",
    "\n",
    "df = pd.DataFrame(np.random.rand(16).reshape(4,4)*100,\n",
    "                   index = ['one','two','three','four'],\n",
    "                   columns = ['a','b','c','d'])\n",
    "print(df)\n"
   ],
   "outputs": [
    {
     "output_type": "stream",
     "name": "stdout",
     "text": [
      "               a          b          c          d\n",
      "one    11.473543  39.805041  85.886004  96.386199\n",
      "two    92.809958  10.017054   3.612522   1.343725\n",
      "three  12.851991  93.649982  94.425585  96.794942\n",
      "four   46.582680  98.209465  13.247896  53.471522\n"
     ]
    }
   ],
   "metadata": {}
  },
  {
   "cell_type": "code",
   "execution_count": 81,
   "source": [
    "b1 = df < 20\n",
    "print(b1,type(b1))\n",
    "print(df[b1])  # 也可以书写为 df[df < 20]\n",
    "# 不做索引则会对数据每个值进行判断\n",
    "# 索引结果保留 所有数据：True返回原数据，False返回值为NaN"
   ],
   "outputs": [
    {
     "output_type": "stream",
     "name": "stdout",
     "text": [
      "           a      b      c      d\n",
      "one     True  False  False  False\n",
      "two    False   True   True   True\n",
      "three   True  False  False  False\n",
      "four   False  False   True  False <class 'pandas.core.frame.DataFrame'>\n",
      "               a          b          c         d\n",
      "one    11.473543        NaN        NaN       NaN\n",
      "two          NaN  10.017054   3.612522  1.343725\n",
      "three  12.851991        NaN        NaN       NaN\n",
      "four         NaN        NaN  13.247896       NaN\n"
     ]
    }
   ],
   "metadata": {}
  },
  {
   "cell_type": "code",
   "execution_count": 82,
   "source": [
    "b2 = df['a'] > 50\n",
    "print(b2,type(b2))\n",
    "print(df[b2])  # 也可以书写为 df[df['a'] > 50]\n",
    "# 单列做判断\n",
    "# 索引结果保留 单列判断为True的行数据，包括其他列"
   ],
   "outputs": [
    {
     "output_type": "stream",
     "name": "stdout",
     "text": [
      "one      False\n",
      "two       True\n",
      "three    False\n",
      "four     False\n",
      "Name: a, dtype: bool <class 'pandas.core.series.Series'>\n",
      "             a          b         c         d\n",
      "two  92.809958  10.017054  3.612522  1.343725\n"
     ]
    }
   ],
   "metadata": {}
  },
  {
   "cell_type": "code",
   "execution_count": 83,
   "source": [
    "b3 = df[['a','b']] > 50\n",
    "print(b3,type(b3))\n",
    "print(df[b3])  # 也可以书写为 df[df[['a','b']] > 50]\n",
    "# 多列做判断\n",
    "# 索引结果保留 所有数据：True返回原数据，False返回值为NaN"
   ],
   "outputs": [
    {
     "output_type": "stream",
     "name": "stdout",
     "text": [
      "           a      b\n",
      "one    False  False\n",
      "two     True  False\n",
      "three  False   True\n",
      "four   False   True <class 'pandas.core.frame.DataFrame'>\n",
      "               a          b   c   d\n",
      "one          NaN        NaN NaN NaN\n",
      "two    92.809958        NaN NaN NaN\n",
      "three        NaN  93.649982 NaN NaN\n",
      "four         NaN  98.209465 NaN NaN\n"
     ]
    }
   ],
   "metadata": {}
  },
  {
   "cell_type": "code",
   "execution_count": 84,
   "source": [
    "b4 = df.loc[['one','three']] < 50\n",
    "print(b4,type(b4))\n",
    "print(df[b4])  # 也可以书写为 df[df.loc[['one','three']] < 50]\n",
    "# 多行做判断\n",
    "# 索引结果保留 所有数据：True返回原数据，False返回值为NaN"
   ],
   "outputs": [
    {
     "output_type": "stream",
     "name": "stdout",
     "text": [
      "          a      b      c      d\n",
      "one    True   True  False  False\n",
      "three  True  False  False  False <class 'pandas.core.frame.DataFrame'>\n",
      "               a          b   c   d\n",
      "one    11.473543  39.805041 NaN NaN\n",
      "two          NaN        NaN NaN NaN\n",
      "three  12.851991        NaN NaN NaN\n",
      "four         NaN        NaN NaN NaN\n"
     ]
    }
   ],
   "metadata": {}
  },
  {
   "cell_type": "code",
   "execution_count": 85,
   "source": [
    "# 多重索引：比如同时索引行和列\n",
    "# 先选择列再选择行 —— 相当于对于一个数据，先筛选字段，再选择数据量\n",
    "\n",
    "df = pd.DataFrame(np.random.rand(16).reshape(4,4)*100,\n",
    "                   index = ['one','two','three','four'],\n",
    "                   columns = ['a','b','c','d'])\n",
    "print(df)\n",
    "print('------')\n",
    "\n",
    "print(df['a'].loc[['one','three']])   # 选择a列的one，three行\n",
    "print(df[['b','c','d']].iloc[::2])   # 选择b，c，d列的one，three行\n",
    "print(df[df['a'] < 50].iloc[:2])   # 选择满足判断索引的前两行数据"
   ],
   "outputs": [
    {
     "output_type": "stream",
     "name": "stdout",
     "text": [
      "               a          b          c          d\n",
      "one    46.923999  43.397244  24.144886  79.449076\n",
      "two    59.051891  40.573679  71.084426  45.566074\n",
      "three  12.257908  36.792895  58.939510  68.239824\n",
      "four   16.264269  35.566235  47.540993  41.971743\n",
      "------\n",
      "one      46.923999\n",
      "three    12.257908\n",
      "Name: a, dtype: float64\n",
      "               b          c          d\n",
      "one    43.397244  24.144886  79.449076\n",
      "three  36.792895  58.939510  68.239824\n",
      "               a          b          c          d\n",
      "one    46.923999  43.397244  24.144886  79.449076\n",
      "three  12.257908  36.792895  58.939510  68.239824\n"
     ]
    }
   ],
   "metadata": {}
  },
  {
   "cell_type": "markdown",
   "source": [
    "### 基本技巧"
   ],
   "metadata": {}
  },
  {
   "cell_type": "markdown",
   "source": [
    "·  数据查看、转置 / 添加、修改、删除值 / 对齐 / 排序"
   ],
   "metadata": {}
  },
  {
   "cell_type": "code",
   "execution_count": null,
   "source": [
    "# 数据查看、转置\n",
    "\n",
    "df = pd.DataFrame(np.random.rand(16).reshape(8,2)*100,\n",
    "                   columns = ['a','b'])\n",
    "print(df.head(2))\n",
    "print(df.tail())\n",
    "# .head()查看头部数据\n",
    "# .tail()查看尾部数据\n",
    "# 默认查看5条\n",
    "\n",
    "print(df.T)\n",
    "# .T 转置"
   ],
   "outputs": [],
   "metadata": {}
  },
  {
   "cell_type": "code",
   "execution_count": null,
   "source": [
    "# 添加与修改\n",
    "\n",
    "df = pd.DataFrame(np.random.rand(16).reshape(4,4)*100,\n",
    "                   columns = ['a','b','c','d'])\n",
    "print(df)\n",
    "\n",
    "df['e'] = 10\n",
    "df.loc[4] = 20\n",
    "print(df)\n",
    "# 新增列/行并赋值\n",
    "\n",
    "df['e'] = 20\n",
    "df[['a','c']] = 100\n",
    "print(df)\n",
    "# 索引后直接修改值"
   ],
   "outputs": [],
   "metadata": {}
  },
  {
   "cell_type": "code",
   "execution_count": null,
   "source": [
    "# 删除  del / drop()\n",
    "\n",
    "df = pd.DataFrame(np.random.rand(16).reshape(4,4)*100,\n",
    "                   columns = ['a','b','c','d'])\n",
    "print(df)\n",
    "\n",
    "del df['a']\n",
    "print(df)\n",
    "print('-----')\n",
    "# del语句 - 删除列\n",
    "\n",
    "print(df.drop(0))\n",
    "print(df.drop([1,2]))\n",
    "print(df)\n",
    "print('-----')\n",
    "# drop()删除行，inplace=False → 删除后生成新的数据，不改变原数据\n",
    "\n",
    "print(df.drop(['d'], axis = 1))\n",
    "print(df)\n",
    "# drop()删除列，需要加上axis = 1，inplace=False → 删除后生成新的数据，不改变原数据"
   ],
   "outputs": [],
   "metadata": {}
  },
  {
   "cell_type": "code",
   "execution_count": null,
   "source": [
    "# 对齐\n",
    "\n",
    "df1 = pd.DataFrame(np.random.randn(10, 4), columns=['A', 'B', 'C', 'D'])\n",
    "df2 = pd.DataFrame(np.random.randn(7, 3), columns=['A', 'B', 'C'])\n",
    "print(df1 + df2)\n",
    "# DataFrame对象之间的数据自动按照列和索引（行标签）对齐"
   ],
   "outputs": [],
   "metadata": {}
  },
  {
   "cell_type": "code",
   "execution_count": null,
   "source": [
    "# 排序1 - 按值排序 .sort_values\n",
    "# 同样适用于Series\n",
    "\n",
    "df1 = pd.DataFrame(np.random.rand(16).reshape(4,4)*100,\n",
    "                   columns = ['a','b','c','d'])\n",
    "print(df1)\n",
    "print(df1.sort_values(['a'], ascending = True))  # 升序\n",
    "print(df1.sort_values(['a'], ascending = False))  # 降序\n",
    "print('------')\n",
    "# ascending参数：设置升序降序，默认升序\n",
    "# 单列排序\n",
    "\n",
    "df2 = pd.DataFrame({'a':[1,1,1,1,2,2,2,2],\n",
    "                  'b':list(range(8)),\n",
    "                  'c':list(range(8,0,-1))})\n",
    "print(df2)\n",
    "print(df2.sort_values(['a','c']))\n",
    "# 多列排序，按列顺序排序"
   ],
   "outputs": [],
   "metadata": {}
  },
  {
   "cell_type": "code",
   "execution_count": null,
   "source": [
    "# 排序2 - 索引排序 .sort_index\n",
    "\n",
    "df1 = pd.DataFrame(np.random.rand(16).reshape(4,4)*100,\n",
    "                  index = [5,4,3,2],\n",
    "                   columns = ['a','b','c','d'])\n",
    "df2 = pd.DataFrame(np.random.rand(16).reshape(4,4)*100,\n",
    "                  index = ['h','s','x','g'],\n",
    "                   columns = ['a','b','c','d'])\n",
    "print(df1)\n",
    "print(df1.sort_index())\n",
    "print(df2)\n",
    "print(df2.sort_index())\n",
    "# 按照index排序\n",
    "# 默认 ascending=True, inplace=False"
   ],
   "outputs": [],
   "metadata": {}
  },
  {
   "cell_type": "markdown",
   "source": [
    "## Pandas时间模块：datetime"
   ],
   "metadata": {}
  },
  {
   "cell_type": "markdown",
   "source": [
    "·  datetime模块，主要掌握：datetime.date(), datetime.datetime(), datetime.timedelta()\n",
    "\n",
    "·  日期解析方法：parser.parse"
   ],
   "metadata": {}
  },
  {
   "cell_type": "code",
   "execution_count": 1,
   "source": [
    "# datetime.date：date对象\n",
    "\n",
    "import datetime  # 也可以写 from datetime import date\n",
    "\n",
    "today = datetime.date.today()\n",
    "print(today,type(today))\n",
    "print(str(today),type(str(today)))\n",
    "# datetime.date.today 返回今日\n",
    "# 输出格式为 date类\n",
    "\n",
    "t = datetime.date(2016,6,1)\n",
    "print(t)\n",
    "# (年，月，日) → 直接得到当时日期"
   ],
   "outputs": [
    {
     "output_type": "stream",
     "name": "stdout",
     "text": [
      "2021-07-29 <class 'datetime.date'>\n",
      "2021-07-29 <class 'str'>\n",
      "2016-06-01\n"
     ]
    }
   ],
   "metadata": {}
  },
  {
   "cell_type": "code",
   "execution_count": 2,
   "source": [
    "# datetime.datetime：datetime对象\n",
    "\n",
    "now = datetime.datetime.now()\n",
    "print(now,type(now))\n",
    "print(str(now),type(str(now))) \n",
    "# .now()方法，输出当前时间\n",
    "# 输出格式为 datetime类\n",
    "# 可通过str()转化为字符串\n",
    "\n",
    "t1 = datetime.datetime(2016,6,1)\n",
    "t2 = datetime.datetime(2014,1,1,12,44,33)\n",
    "print(t1,t2)\n",
    "# (年，月，日，时，分，秒)，至少输入年月日\n",
    "\n",
    "t2-t1\n",
    "# 相减得到时间差 —— timedelta"
   ],
   "outputs": [
    {
     "output_type": "stream",
     "name": "stdout",
     "text": [
      "2021-07-29 15:51:57.268227 <class 'datetime.datetime'>\n",
      "2021-07-29 15:51:57.268227 <class 'str'>\n",
      "2016-06-01 00:00:00 2014-01-01 12:44:33\n"
     ]
    },
    {
     "output_type": "execute_result",
     "data": {
      "text/plain": [
       "datetime.timedelta(days=-882, seconds=45873)"
      ]
     },
     "metadata": {},
     "execution_count": 2
    }
   ],
   "metadata": {}
  },
  {
   "cell_type": "code",
   "execution_count": 3,
   "source": [
    "# parser.parse：日期字符串转换\n",
    "\n",
    "from dateutil.parser import parse\n",
    "\n",
    "date = '12-21-2017'\n",
    "t = parse(date)\n",
    "print(t,type(t))\n",
    "# 直接将str转化成datetime.datetime\n",
    "\n",
    "print(parse('2000-1-1'),'\\n',\n",
    "     parse('5/1/2014'),'\\n',\n",
    "     parse('5/1/2014', dayfirst = True),'\\n',  # 国际通用格式中，日在月之前，可以通过dayfirst来设置\n",
    "     parse('22/1/2014'),'\\n',\n",
    "     parse('Jan 31, 1997 10:45 PM'))\n",
    "# 各种格式可以解析，但无法支持中文"
   ],
   "outputs": [
    {
     "output_type": "stream",
     "name": "stdout",
     "text": [
      "2017-12-21 00:00:00 <class 'datetime.datetime'>\n",
      "2000-01-01 00:00:00 \n",
      " 2014-05-01 00:00:00 \n",
      " 2014-01-05 00:00:00 \n",
      " 2014-01-22 00:00:00 \n",
      " 1997-01-31 22:45:00\n"
     ]
    }
   ],
   "metadata": {}
  },
  {
   "cell_type": "markdown",
   "source": [
    "## Pandas时刻数据：Timestamp"
   ],
   "metadata": {}
  },
  {
   "cell_type": "markdown",
   "source": [
    "·  时刻数据代表时间点，是pandas的数据类型，是将值与时间点相关联的最基本类型的时间序列数据\n",
    "\n",
    "·  pandas.Timestamp()"
   ],
   "metadata": {}
  },
  {
   "cell_type": "code",
   "execution_count": 4,
   "source": [
    "# pd.Timestamp()\n",
    "\n",
    "import numpy as np\n",
    "import pandas as pd\n",
    "\n",
    "date1 = datetime.datetime(2016,12,1,12,45,30)  # 创建一个datetime.datetime\n",
    "date2 = '2017-12-21'  # 创建一个字符串\n",
    "t1 = pd.Timestamp(date1)\n",
    "t2 = pd.Timestamp(date2)\n",
    "print(t1,type(t1))\n",
    "print(t2)\n",
    "print(pd.Timestamp('2017-12-21 15:00:22'))\n",
    "# 直接生成pandas的时刻数据 → 时间戳\n",
    "# 数据类型为 pandas的Timestamp"
   ],
   "outputs": [
    {
     "output_type": "stream",
     "name": "stdout",
     "text": [
      "2016-12-01 12:45:30 <class 'pandas._libs.tslibs.timestamps.Timestamp'>\n",
      "2017-12-21 00:00:00\n",
      "2017-12-21 15:00:22\n"
     ]
    }
   ],
   "metadata": {}
  },
  {
   "cell_type": "code",
   "execution_count": 5,
   "source": [
    "# pd.to_datetime\n",
    "\n",
    "from datetime import datetime\n",
    "\n",
    "date1 = datetime(2016,12,1,12,45,30)\n",
    "date2 = '2017-12-21'\n",
    "t1 = pd.to_datetime(date1)\n",
    "t2 = pd.to_datetime(date2)\n",
    "print(t1,type(t1))\n",
    "print(t2,type(t2))\n",
    "# pd.to_datetime()：如果是单个时间数据，转换成pandas的时刻数据，数据类型为Timestamp\n",
    "\n",
    "lst_date = [ '2017-12-21', '2017-12-22', '2017-12-23']\n",
    "t3 = pd.to_datetime(lst_date)\n",
    "print(t3,type(t3))\n",
    "# 多个时间数据，将会转换为pandas的DatetimeIndex"
   ],
   "outputs": [
    {
     "output_type": "stream",
     "name": "stdout",
     "text": [
      "2016-12-01 12:45:30 <class 'pandas._libs.tslibs.timestamps.Timestamp'>\n",
      "2017-12-21 00:00:00 <class 'pandas._libs.tslibs.timestamps.Timestamp'>\n",
      "DatetimeIndex(['2017-12-21', '2017-12-22', '2017-12-23'], dtype='datetime64[ns]', freq=None) <class 'pandas.core.indexes.datetimes.DatetimeIndex'>\n"
     ]
    }
   ],
   "metadata": {}
  },
  {
   "cell_type": "code",
   "execution_count": 6,
   "source": [
    "# pd.to_datetime → 多个时间数据转换时间戳索引\n",
    "\n",
    "date1 = [datetime(2015,6,1),datetime(2015,7,1),datetime(2015,8,1),datetime(2015,9,1),datetime(2015,10,1)]\n",
    "date2 = ['2017-2-1','2017-2-2','2017-2-3','2017-2-4','2017-2-5','2017-2-6']\n",
    "print(date1)\n",
    "print(date2)\n",
    "t1 = pd.to_datetime(date2)\n",
    "t2 = pd.to_datetime(date2)\n",
    "print(t1)\n",
    "print(t2)\n",
    "# 多个时间数据转换为 DatetimeIndex\n",
    "\n",
    "date3 = ['2017-2-1','2017-2-2','2017-2-3','hello world!','2017-2-5','2017-2-6']\n",
    "t3 = pd.to_datetime(date3, errors = 'ignore')\n",
    "print(t3,type(t3))\n",
    "# 当一组时间序列中夹杂其他格式数据，可用errors参数返回\n",
    "# errors = 'ignore':不可解析时返回原始输入，这里就是直接生成一般数组\n",
    "\n",
    "t4 = pd.to_datetime(date3, errors = 'coerce')\n",
    "print(t4,type(t4))\n",
    "# errors = 'coerce':不可扩展，缺失值返回NaT（Not a Time），结果认为DatetimeIndex"
   ],
   "outputs": [
    {
     "output_type": "stream",
     "name": "stdout",
     "text": [
      "[datetime.datetime(2015, 6, 1, 0, 0), datetime.datetime(2015, 7, 1, 0, 0), datetime.datetime(2015, 8, 1, 0, 0), datetime.datetime(2015, 9, 1, 0, 0), datetime.datetime(2015, 10, 1, 0, 0)]\n",
      "['2017-2-1', '2017-2-2', '2017-2-3', '2017-2-4', '2017-2-5', '2017-2-6']\n",
      "DatetimeIndex(['2017-02-01', '2017-02-02', '2017-02-03', '2017-02-04',\n",
      "               '2017-02-05', '2017-02-06'],\n",
      "              dtype='datetime64[ns]', freq=None)\n",
      "DatetimeIndex(['2017-02-01', '2017-02-02', '2017-02-03', '2017-02-04',\n",
      "               '2017-02-05', '2017-02-06'],\n",
      "              dtype='datetime64[ns]', freq=None)\n",
      "Index(['2017-2-1', '2017-2-2', '2017-2-3', 'hello world!', '2017-2-5',\n",
      "       '2017-2-6'],\n",
      "      dtype='object') <class 'pandas.core.indexes.base.Index'>\n",
      "DatetimeIndex(['2017-02-01', '2017-02-02', '2017-02-03', 'NaT', '2017-02-05',\n",
      "               '2017-02-06'],\n",
      "              dtype='datetime64[ns]', freq=None) <class 'pandas.core.indexes.datetimes.DatetimeIndex'>\n"
     ]
    }
   ],
   "metadata": {}
  },
  {
   "cell_type": "markdown",
   "source": [
    "## Pandas时间戳索引：DatetimeIndex"
   ],
   "metadata": {}
  },
  {
   "cell_type": "markdown",
   "source": [
    "·  核心：pd.date_range()"
   ],
   "metadata": {}
  },
  {
   "cell_type": "code",
   "execution_count": 7,
   "source": [
    "# pd.DatetimeIndex()与TimeSeries时间序列\n",
    "\n",
    "rng = pd.DatetimeIndex(['12/1/2017','12/2/2017','12/3/2017','12/4/2017','12/5/2017'])\n",
    "print(rng,type(rng))\n",
    "print(rng[0],type(rng[0]))\n",
    "# 直接生成时间戳索引，支持str、datetime.datetime\n",
    "# 单个时间戳为Timestamp，多个时间戳为DatetimeIndex\n",
    "\n",
    "st = pd.Series(np.random.rand(len(rng)), index = rng)\n",
    "print(st,type(st))\n",
    "print(st.index)\n",
    "# 以DatetimeIndex为index的Series，为TimeSries，时间序列"
   ],
   "outputs": [
    {
     "output_type": "stream",
     "name": "stdout",
     "text": [
      "DatetimeIndex(['2017-12-01', '2017-12-02', '2017-12-03', '2017-12-04',\n",
      "               '2017-12-05'],\n",
      "              dtype='datetime64[ns]', freq=None) <class 'pandas.core.indexes.datetimes.DatetimeIndex'>\n",
      "2017-12-01 00:00:00 <class 'pandas._libs.tslibs.timestamps.Timestamp'>\n",
      "2017-12-01    0.765064\n",
      "2017-12-02    0.376790\n",
      "2017-12-03    0.498619\n",
      "2017-12-04    0.951053\n",
      "2017-12-05    0.392572\n",
      "dtype: float64 <class 'pandas.core.series.Series'>\n",
      "DatetimeIndex(['2017-12-01', '2017-12-02', '2017-12-03', '2017-12-04',\n",
      "               '2017-12-05'],\n",
      "              dtype='datetime64[ns]', freq=None)\n"
     ]
    }
   ],
   "metadata": {}
  },
  {
   "cell_type": "code",
   "execution_count": null,
   "source": [
    "# pd.date_range()-日期范围：生成日期范围\n",
    "# 2种生成方式：①start + end； ②start/end + periods\n",
    "# 默认频率：day\n",
    "\n",
    "rng1 = pd.date_range('1/1/2017','1/10/2017', normalize=True)\n",
    "rng2 = pd.date_range(start = '1/1/2017', periods = 10)\n",
    "rng3 = pd.date_range(end = '1/30/2017 15:00:00', periods = 10)  # 增加了时、分、秒\n",
    "print(rng1,type(rng1))\n",
    "print(rng2)\n",
    "print(rng3)\n",
    "print('-------')\n",
    "# 直接生成DatetimeIndex\n",
    "# pd.date_range(start=None, end=None, periods=None, freq='D', tz=None, normalize=False, name=None, closed=None, **kwargs)\n",
    "# start：开始时间\n",
    "# end：结束时间\n",
    "# periods：偏移量\n",
    "# freq：频率，默认天，pd.date_range()默认频率为日历日，pd.bdate_range()默认频率为工作日\n",
    "# tz：时区\n",
    "\n",
    "rng4 = pd.date_range(start = '1/1/2017 15:30', periods = 10, name = 'hello world!', normalize = True)\n",
    "print(rng4)\n",
    "print('-------')\n",
    "# normalize：时间参数值正则化到午夜时间戳（这里最后就直接变成0:00:00，并不是15:30:00）\n",
    "# name：索引对象名称\n",
    "\n",
    "print(pd.date_range('20170101','20170104'))  # 20170101也可读取\n",
    "print(pd.date_range('20170101','20170104',closed = 'right'))\n",
    "print(pd.date_range('20170101','20170104',closed = 'left'))\n",
    "print('-------')\n",
    "# closed：默认为None的情况下，左闭右闭，left则左闭右开，right则左开右闭\n",
    "\n",
    "print(pd.bdate_range('20170101','20170107'))\n",
    "# pd.bdate_range()默认频率为工作日\n",
    "\n",
    "print(list(pd.date_range(start = '1/1/2017', periods = 10)))\n",
    "# 直接转化为list，元素为Timestamp"
   ],
   "outputs": [],
   "metadata": {}
  },
  {
   "cell_type": "code",
   "execution_count": null,
   "source": [
    "# pd.date_range()-日期范围：频率(1)\n",
    "\n",
    "print(pd.date_range('2017/1/1','2017/1/4'))  # 默认freq = 'D'：每日历日\n",
    "print(pd.date_range('2017/1/1','2017/1/4', freq = 'B'))  # B：每工作日\n",
    "print(pd.date_range('2017/1/1','2017/1/2', freq = 'H'))  # H：每小时\n",
    "print(pd.date_range('2017/1/1 12:00','2017/1/1 12:10', freq = 'T'))  # T/MIN：每分\n",
    "print(pd.date_range('2017/1/1 12:00:00','2017/1/1 12:00:10', freq = 'S'))  # S：每秒\n",
    "print(pd.date_range('2017/1/1 12:00:00','2017/1/1 12:00:10', freq = 'L'))  # L：每毫秒（千分之一秒）\n",
    "print(pd.date_range('2017/1/1 12:00:00','2017/1/1 12:00:10', freq = 'U'))  # U：每微秒（百万分之一秒）\n",
    "\n",
    "print(pd.date_range('2017/1/1','2017/2/1', freq = 'W-MON'))  \n",
    "# W-MON：从指定星期几开始算起，每周\n",
    "# 星期几缩写：MON/TUE/WED/THU/FRI/SAT/SUN\n",
    "\n",
    "print(pd.date_range('2017/1/1','2017/5/1', freq = 'WOM-2MON'))  \n",
    "# WOM-2MON：每月的第几个星期几开始算，这里是每月第二个星期一"
   ],
   "outputs": [],
   "metadata": {}
  },
  {
   "cell_type": "code",
   "execution_count": null,
   "source": [
    "# pd.date_range()-日期范围：频率(2)\n",
    "\n",
    "print(pd.date_range('2017','2018', freq = 'M'))  \n",
    "print(pd.date_range('2017','2020', freq = 'Q-DEC'))  \n",
    "print(pd.date_range('2017','2020', freq = 'A-DEC')) \n",
    "print('------')\n",
    "# M：每月最后一个日历日\n",
    "# Q-月：指定月为季度末，每个季度末最后一月的最后一个日历日\n",
    "# A-月：每年指定月份的最后一个日历日\n",
    "# 月缩写：JAN/FEB/MAR/APR/MAY/JUN/JUL/AUG/SEP/OCT/NOV/DEC\n",
    "# 所以Q-月只有三种情况：1-4-7-10,2-5-8-11,3-6-9-12\n",
    "\n",
    "print(pd.date_range('2017','2018', freq = 'BM'))  \n",
    "print(pd.date_range('2017','2020', freq = 'BQ-DEC'))  \n",
    "print(pd.date_range('2017','2020', freq = 'BA-DEC')) \n",
    "print('------')\n",
    "# BM：每月最后一个工作日\n",
    "# BQ-月：指定月为季度末，每个季度末最后一月的最后一个工作日\n",
    "# BA-月：每年指定月份的最后一个工作日\n",
    "\n",
    "print(pd.date_range('2017','2018', freq = 'MS'))  \n",
    "print(pd.date_range('2017','2020', freq = 'QS-DEC'))  \n",
    "print(pd.date_range('2017','2020', freq = 'AS-DEC')) \n",
    "print('------')\n",
    "# M：每月第一个日历日\n",
    "# Q-月：指定月为季度末，每个季度末最后一月的第一个日历日\n",
    "# A-月：每年指定月份的第一个日历日\n",
    "\n",
    "print(pd.date_range('2017','2018', freq = 'BMS'))  \n",
    "print(pd.date_range('2017','2020', freq = 'BQS-DEC'))  \n",
    "print(pd.date_range('2017','2020', freq = 'BAS-DEC')) \n",
    "print('------')\n",
    "# BM：每月第一个工作日\n",
    "# BQ-月：指定月为季度末，每个季度末最后一月的第一个工作日\n",
    "# BA-月：每年指定月份的第一个工作日"
   ],
   "outputs": [],
   "metadata": {}
  },
  {
   "cell_type": "code",
   "execution_count": null,
   "source": [
    "# pd.date_range()-日期范围：复合频率\n",
    "\n",
    "print(pd.date_range('2017/1/1','2017/2/1', freq = '7D'))  # 7天\n",
    "print(pd.date_range('2017/1/1','2017/1/2', freq = '2h30min'))  # 2小时30分钟\n",
    "print(pd.date_range('2017','2018', freq = '2M'))  # 2月，每月最后一个日历日"
   ],
   "outputs": [],
   "metadata": {}
  },
  {
   "cell_type": "code",
   "execution_count": null,
   "source": [
    "# asfreq：时期频率转换\n",
    "\n",
    "ts = pd.Series(np.random.rand(4),\n",
    "              index = pd.date_range('20170101','20170104'))\n",
    "print(ts)\n",
    "print(ts.asfreq('4H',method = 'ffill'))\n",
    "# 改变频率，这里是D改为4H\n",
    "# method：插值模式，None不插值，ffill用之前值填充，bfill用之后值填充"
   ],
   "outputs": [],
   "metadata": {}
  },
  {
   "cell_type": "code",
   "execution_count": null,
   "source": [
    "# pd.date_range()-日期范围：超前/滞后数据\n",
    "\n",
    "ts = pd.Series(np.random.rand(4),\n",
    "              index = pd.date_range('20170101','20170104'))\n",
    "print(ts)\n",
    "\n",
    "print(ts.shift(2))\n",
    "print(ts.shift(-2))\n",
    "print('------')\n",
    "# 正数：数值后移（滞后）；负数：数值前移（超前）\n",
    "\n",
    "per = ts/ts.shift(1) - 1\n",
    "print(per)\n",
    "print('------')\n",
    "# 计算变化百分比，这里计算：该时间戳与上一个时间戳相比，变化百分比\n",
    "\n",
    "print(ts.shift(2, freq = 'D'))\n",
    "print(ts.shift(2, freq = 'T'))\n",
    "# 加上freq参数：对时间戳进行位移，而不是对数值进行位移"
   ],
   "outputs": [],
   "metadata": {}
  },
  {
   "cell_type": "markdown",
   "source": [
    "## Pandas时期：Period"
   ],
   "metadata": {}
  },
  {
   "cell_type": "markdown",
   "source": [
    "· 核心：pd.Period()"
   ],
   "metadata": {}
  },
  {
   "cell_type": "code",
   "execution_count": null,
   "source": [
    "# pd.Period()创建时期\n",
    "\n",
    "p = pd.Period('2017', freq = 'M')\n",
    "print(p, type(p))\n",
    "# 生成一个以2017-01开始，月为频率的时间构造器\n",
    "# pd.Period()参数：一个时间戳 + freq 参数 → freq 用于指明该 period 的长度，时间戳则说明该 period 在时间轴上的位置\n",
    "\n",
    "print(p + 1)\n",
    "print(p - 2)\n",
    "print(pd.Period('2012', freq = 'A-DEC') - 1)\n",
    "# 通过加减整数，将周期整体移动\n",
    "# 这里是按照 月、年 移动"
   ],
   "outputs": [],
   "metadata": {}
  },
  {
   "cell_type": "code",
   "execution_count": null,
   "source": [
    "# pd.period_range()创建时期范围\n",
    "\n",
    "prng = pd.period_range('1/1/2011', '1/1/2012', freq='M')\n",
    "print(prng,type(prng))\n",
    "print(prng[0],type(prng[0]))\n",
    "# 数据格式为PeriodIndex，单个数值为Period\n",
    "\n",
    "ts = pd.Series(np.random.rand(len(prng)), index = prng)\n",
    "print(ts,type(ts))\n",
    "print(ts.index)\n",
    "# 时间序列\n",
    "\n",
    "# Period('2011', freq = 'A-DEC')可以看成多个时间期的时间段中的游标\n",
    "# Timestamp表示一个时间戳，是一个时间截面；Period是一个时期，是一个时间段！！但两者作为index时区别不大\n"
   ],
   "outputs": [],
   "metadata": {}
  },
  {
   "cell_type": "code",
   "execution_count": null,
   "source": [
    "# asfreq：频率转换\n",
    "\n",
    "p = pd.Period('2017','A-DEC')\n",
    "print(p)\n",
    "print(p.asfreq('M', how = 'start'))  # 也可写 how = 's'\n",
    "print(p.asfreq('D', how = 'end'))  # 也可写 how = 'e'\n",
    "# 通过.asfreq(freq, method=None, how=None)方法转换成别的频率\n",
    "\n",
    "prng = pd.period_range('2017','2018',freq = 'M')\n",
    "ts1 = pd.Series(np.random.rand(len(prng)), index = prng)\n",
    "ts2 = pd.Series(np.random.rand(len(prng)), index = prng.asfreq('D', how = 'start'))\n",
    "print(ts1.head(),len(ts1))\n",
    "print(ts2.head(),len(ts2))\n",
    "# asfreq也可以转换TIMESeries的index"
   ],
   "outputs": [],
   "metadata": {}
  },
  {
   "cell_type": "code",
   "execution_count": null,
   "source": [
    "# 时间戳与时期之间的转换：pd.to_period()、pd.to_timestamp()\n",
    "\n",
    "rng = pd.date_range('2017/1/1', periods = 10, freq = 'M')\n",
    "prng = pd.period_range('2017','2018', freq = 'M')\n",
    "\n",
    "ts1 = pd.Series(np.random.rand(len(rng)), index = rng)\n",
    "print(ts1.head())\n",
    "print(ts1.to_period().head())\n",
    "# 每月最后一日，转化为每月\n",
    "\n",
    "ts2 = pd.Series(np.random.rand(len(prng)), index = prng)\n",
    "print(ts2.head())\n",
    "print(ts2.to_timestamp().head())\n",
    "# 每月，转化为每月第一天"
   ],
   "outputs": [],
   "metadata": {}
  },
  {
   "cell_type": "markdown",
   "source": [
    "## 时间序列 - 索引及切片"
   ],
   "metadata": {}
  },
  {
   "cell_type": "markdown",
   "source": [
    "·  TimeSeries是Series的一个子类，所以Series索引及数据选取方面的方法基本一样\n",
    "\n",
    "·  同时TimeSeries通过时间序列有更便捷的方法做索引和切片"
   ],
   "metadata": {}
  },
  {
   "cell_type": "code",
   "execution_count": null,
   "source": [
    "# 索引\n",
    "\n",
    "from datetime import datetime\n",
    "\n",
    "rng = pd.date_range('2017/1','2017/3')\n",
    "ts = pd.Series(np.random.rand(len(rng)), index = rng)\n",
    "print(ts.head())\n",
    "\n",
    "print(ts[0])\n",
    "print(ts[:2])\n",
    "print('-----')\n",
    "# 基本下标位置索引\n",
    "\n",
    "print(ts['2017/1/2'])\n",
    "print(ts['20170103'])\n",
    "print(ts['1/10/2017'])\n",
    "print(ts[datetime(2017,1,20)])\n",
    "print('-----')\n",
    "# 时间序列标签索引，支持各种时间字符串，以及datetime.datetime\n",
    "\n",
    "# 时间序列由于按照时间先后排序，故不用考虑顺序问题\n",
    "# 索引方法同样适用于Dataframe"
   ],
   "outputs": [],
   "metadata": {}
  },
  {
   "cell_type": "code",
   "execution_count": null,
   "source": [
    "# 切片\n",
    "\n",
    "rng = pd.date_range('2017/1','2017/3',freq = '12H')\n",
    "ts = pd.Series(np.random.rand(len(rng)), index = rng)\n",
    "\n",
    "print(ts['2017/1/5':'2017/1/10'])\n",
    "print('-----')\n",
    "# 和Series按照index索引原理一样，也是末端包含\n",
    "\n",
    "print(ts['2017/2'].head())\n",
    "# 传入月，直接得到一个切片\n"
   ],
   "outputs": [],
   "metadata": {}
  },
  {
   "cell_type": "code",
   "execution_count": null,
   "source": [
    "# 重复索引的时间序列\n",
    "\n",
    "dates = pd.DatetimeIndex(['1/1/2015','1/2/2015','1/3/2015','1/4/2015','1/1/2015','1/2/2015'])\n",
    "ts = pd.Series(np.random.rand(6), index = dates)\n",
    "print(ts)\n",
    "print(ts.is_unique,ts.index.is_unique)\n",
    "print('-----')\n",
    "# index有重复，is_unique检查 → values唯一，index不唯一\n",
    "\n",
    "print(ts['20150101'],type(ts['20150101']))\n",
    "print(ts['20150104'],type(ts['20150104']))\n",
    "print('-----')\n",
    "# index有重复的将返回多个值\n",
    "\n",
    "print(ts.groupby(level = 0).mean())\n",
    "# 通过groupby做分组，重复的值这里用平均值处理"
   ],
   "outputs": [],
   "metadata": {}
  },
  {
   "cell_type": "markdown",
   "source": [
    "## 时间序列 - 重采样"
   ],
   "metadata": {}
  },
  {
   "cell_type": "markdown",
   "source": [
    "·  将时间序列从一个频率转换为另一个频率的过程，且会有数据的结合\n",
    "\n",
    "    ·  降采样：高频数据 → 低频数据，eg.以天为频率的数据转为以月为频率的数据\n",
    "    ·  升采样：低频数据 → 高频数据，eg.以年为频率的数据转为以月为频率的数据"
   ],
   "metadata": {}
  },
  {
   "cell_type": "code",
   "execution_count": null,
   "source": [
    "# 重采样：.resample()\n",
    "# 创建一个以天为频率的TimeSeries，重采样为按2天为频率\n",
    "\n",
    "rng = pd.date_range('20170101', periods = 12)\n",
    "ts = pd.Series(np.arange(12), index = rng)\n",
    "print(ts)\n",
    "\n",
    "ts_re = ts.resample('5D')\n",
    "ts_re2 = ts.resample('5D').sum()\n",
    "print(ts_re, type(ts_re))\n",
    "print(ts_re2, type(ts_re2))\n",
    "print('-----')\n",
    "# ts.resample('5D')：得到一个重采样构建器，频率改为5天\n",
    "# ts.resample('5D').sum():得到一个新的聚合后的Series，聚合方式为求和\n",
    "# freq：重采样频率 → ts.resample('5D')\n",
    "# .sum()：聚合方法\n",
    "\n",
    "print(ts.resample('5D').mean(),'→ 求平均值\\n')\n",
    "print(ts.resample('5D').max(),'→ 求最大值\\n')\n",
    "print(ts.resample('5D').min(),'→ 求最小值\\n')\n",
    "print(ts.resample('5D').median(),'→ 求中值\\n')\n",
    "print(ts.resample('5D').first(),'→ 返回第一个值\\n')\n",
    "print(ts.resample('5D').last(),'→ 返回最后一个值\\n')\n",
    "print(ts.resample('5D').ohlc(),'→ OHLC重采样\\n')\n",
    "# OHLC:金融领域的时间序列聚合方式 → open开盘、high最大值、low最小值、close收盘"
   ],
   "outputs": [],
   "metadata": {}
  },
  {
   "cell_type": "code",
   "execution_count": null,
   "source": [
    "# 降采样\n",
    "\n",
    "rng = pd.date_range('20170101', periods = 12)\n",
    "ts = pd.Series(np.arange(1,13), index = rng)\n",
    "print(ts)\n",
    "\n",
    "print(ts.resample('5D').sum(),'→ 默认\\n')\n",
    "print(ts.resample('5D', closed = 'left').sum(),'→ left\\n')\n",
    "print(ts.resample('5D', closed = 'right').sum(),'→ right\\n')\n",
    "print('-----')\n",
    "# closed：各时间段哪一端是闭合（即包含）的，默认 左闭右闭\n",
    "# 详解：这里values为0-11，按照5D重采样 → [1,2,3,4,5],[6,7,8,9,10],[11,12]\n",
    "# left指定间隔左边为结束 → [1,2,3,4,5],[6,7,8,9,10],[11,12]\n",
    "# right指定间隔右边为结束 → [1],[2,3,4,5,6],[7,8,9,10,11],[12]\n",
    "\n",
    "print(ts.resample('5D', label = 'left').sum(),'→ leftlabel\\n')\n",
    "print(ts.resample('5D', label = 'right').sum(),'→ rightlabel\\n')\n",
    "# label：聚合值的index，默认为取左\n",
    "# 值采样认为默认（这里closed默认）"
   ],
   "outputs": [],
   "metadata": {}
  },
  {
   "cell_type": "code",
   "execution_count": null,
   "source": [
    "# 升采样及插值\n",
    "\n",
    "rng = pd.date_range('2017/1/1 0:0:0', periods = 5, freq = 'H')\n",
    "ts = pd.DataFrame(np.arange(15).reshape(5,3),\n",
    "                  index = rng,\n",
    "                  columns = ['a','b','c'])\n",
    "print(ts)\n",
    "\n",
    "print(ts.resample('15T').asfreq())\n",
    "print(ts.resample('15T').ffill())\n",
    "print(ts.resample('15T').bfill())\n",
    "# 低频转高频，主要是如何插值\n",
    "# .asfreq()：不做填充，返回Nan\n",
    "# .ffill()：向上填充\n",
    "# .bfill()：向下填充"
   ],
   "outputs": [],
   "metadata": {}
  },
  {
   "cell_type": "code",
   "execution_count": 27,
   "source": [
    "# 时期重采样 - Period\n",
    "\n",
    "prng = pd.period_range('2016','2017',freq = 'M')\n",
    "ts = pd.Series(np.arange(len(prng)), index = prng)\n",
    "print(ts)\n",
    "\n",
    "# print(ts.resample('3M').sum())  # 降采样\n",
    "print(ts.resample('15D').ffill())  # 升采样"
   ],
   "outputs": [
    {
     "output_type": "stream",
     "name": "stdout",
     "text": [
      "2016-01     0\n",
      "2016-02     1\n",
      "2016-03     2\n",
      "2016-04     3\n",
      "2016-05     4\n",
      "2016-06     5\n",
      "2016-07     6\n",
      "2016-08     7\n",
      "2016-09     8\n",
      "2016-10     9\n",
      "2016-11    10\n",
      "2016-12    11\n",
      "2017-01    12\n",
      "Freq: M, dtype: int64\n",
      "2016-01-01     0\n",
      "2016-01-16     0\n",
      "2016-01-31     0\n",
      "2016-02-15     1\n",
      "2016-03-01     2\n",
      "2016-03-16     2\n",
      "2016-03-31     2\n",
      "2016-04-15     3\n",
      "2016-04-30     3\n",
      "2016-05-15     4\n",
      "2016-05-30     4\n",
      "2016-06-14     5\n",
      "2016-06-29     5\n",
      "2016-07-14     6\n",
      "2016-07-29     6\n",
      "2016-08-13     7\n",
      "2016-08-28     7\n",
      "2016-09-12     8\n",
      "2016-09-27     8\n",
      "2016-10-12     9\n",
      "2016-10-27     9\n",
      "2016-11-11    10\n",
      "2016-11-26    10\n",
      "2016-12-11    11\n",
      "2016-12-26    11\n",
      "2017-01-10    12\n",
      "2017-01-25    12\n",
      "Freq: 15D, dtype: int64\n"
     ]
    }
   ],
   "metadata": {}
  },
  {
   "cell_type": "markdown",
   "source": [
    "## 数值计算和统计基础"
   ],
   "metadata": {}
  },
  {
   "cell_type": "markdown",
   "source": [
    "·  常用数学、统计方法"
   ],
   "metadata": {}
  },
  {
   "cell_type": "code",
   "execution_count": null,
   "source": [
    "# 基本参数：axis、skipna\n",
    "\n",
    "import numpy as np\n",
    "import pandas as pd\n",
    "\n",
    "df = pd.DataFrame({'key1':[4,5,3,np.nan,2],\n",
    "                 'key2':[1,2,np.nan,4,5],\n",
    "                 'key3':[1,2,3,'j','k']},\n",
    "                 index = ['a','b','c','d','e'])\n",
    "print(df)\n",
    "print(df['key1'].dtype,df['key2'].dtype,df['key3'].dtype)\n",
    "print('-----')\n",
    "\n",
    "m1 = df.mean()\n",
    "print(m1,type(m1))\n",
    "print('单独统计一列:',df['key2'].mean())\n",
    "print('-----')\n",
    "# np.nan ：空值\n",
    "# .mean()计算均值\n",
    "# 只统计数字列\n",
    "# 可以通过索引单独统计一列\n",
    "\n",
    "m2 = df.mean(axis=1)\n",
    "print(m2)\n",
    "print('-----')\n",
    "# axis参数：默认为0，以列来计算，axis=1，以行来计算，这里就按照行来汇总了\n",
    "\n",
    "m3 = df.mean(skipna=False)\n",
    "print(m3)\n",
    "print('-----')\n",
    "# skipna参数：是否忽略NaN，默认True，如False，有NaN的列统计结果仍未NaN\n"
   ],
   "outputs": [],
   "metadata": {}
  },
  {
   "cell_type": "code",
   "execution_count": null,
   "source": [
    "# 主要数学计算方法，可用于Series和DataFrame（1）\n",
    "\n",
    "df = pd.DataFrame({'key1':np.arange(10),\n",
    "                  'key2':np.random.rand(10)*10})\n",
    "print(df)\n",
    "print('-----')\n",
    "\n",
    "print(df.count(),'→ count统计非Na值的数量\\n')\n",
    "print(df.min(),'→ min统计最小值\\n',df['key2'].max(),'→ max统计最大值\\n')\n",
    "print(df.quantile(q=0.75),'→ quantile统计分位数，参数q确定位置\\n')\n",
    "print(df.sum(),'→ sum求和\\n')\n",
    "print(df.mean(),'→ mean求平均值\\n')\n",
    "print(df.median(),'→ median求算数中位数，50%分位数\\n')\n",
    "print(df.std(),'\\n',df.var(),'→ std,var分别求标准差，方差\\n')\n",
    "print(df.skew(),'→ skew样本的偏度\\n')\n",
    "print(df.kurt(),'→ kurt样本的峰度\\n')"
   ],
   "outputs": [],
   "metadata": {}
  },
  {
   "cell_type": "code",
   "execution_count": null,
   "source": [
    "# 主要数学计算方法，可用于Series和DataFrame（2）\n",
    "\n",
    "df['key1_s'] = df['key1'].cumsum()\n",
    "df['key2_s'] = df['key2'].cumsum()\n",
    "print(df,'→ cumsum样本的累计和\\n')\n",
    "\n",
    "df['key1_p'] = df['key1'].cumprod()\n",
    "df['key2_p'] = df['key2'].cumprod()\n",
    "print(df,'→ cumprod样本的累计积\\n')\n",
    "\n",
    "print(df.cummax(),'\\n',df.cummin(),'→ cummax,cummin分别求累计最大值，累计最小值\\n')\n",
    "# 会填充key1，和key2的值"
   ],
   "outputs": [],
   "metadata": {}
  },
  {
   "cell_type": "code",
   "execution_count": null,
   "source": [
    "# 唯一值：.unique()\n",
    "\n",
    "s = pd.Series(list('asdvasdcfgg'))\n",
    "sq = s.unique()\n",
    "print(s)\n",
    "print(sq,type(sq))\n",
    "print(pd.Series(sq))\n",
    "# 得到一个唯一值数组\n",
    "# 通过pd.Series重新变成新的Series\n",
    "\n",
    "sq.sort()\n",
    "print(sq)\n",
    "# 重新排序"
   ],
   "outputs": [],
   "metadata": {}
  },
  {
   "cell_type": "code",
   "execution_count": null,
   "source": [
    "# 值计数：.value_counts()\n",
    "\n",
    "sc = s.value_counts(sort = False)  # 也可以这样写：pd.value_counts(sc, sort = False)\n",
    "print(sc)\n",
    "# 得到一个新的Series，计算出不同值出现的频率\n",
    "# sort参数：排序，默认为True"
   ],
   "outputs": [],
   "metadata": {}
  },
  {
   "cell_type": "code",
   "execution_count": null,
   "source": [
    "# 成员资格：.isin()\n",
    "\n",
    "s = pd.Series(np.arange(10,15))\n",
    "df = pd.DataFrame({'key1':list('asdcbvasd'),\n",
    "                  'key2':np.arange(4,13)})\n",
    "print(s)\n",
    "print(df)\n",
    "print('-----')\n",
    "\n",
    "print(s.isin([5,14]))\n",
    "print(df.isin(['a','bc','10',8]))\n",
    "# 用[]表示\n",
    "# 得到一个布尔值的Series或者Dataframe"
   ],
   "outputs": [],
   "metadata": {}
  },
  {
   "cell_type": "markdown",
   "source": [
    "## 文本数据"
   ],
   "metadata": {}
  },
  {
   "cell_type": "markdown",
   "source": [
    "·  Pandas针对字符串配备的一套方法，使其易于对数组的每个元素进行操作"
   ],
   "metadata": {}
  },
  {
   "cell_type": "code",
   "execution_count": null,
   "source": [
    "# 通过str访问，且自动排除丢失/ NA值\n",
    "\n",
    "s = pd.Series(['A','b','C','bbhello','123',np.nan,'hj'])\n",
    "df = pd.DataFrame({'key1':list('abcdef'),\n",
    "                  'key2':['hee','fv','w','hija','123',np.nan]})\n",
    "print(s)\n",
    "print(df)\n",
    "print('-----')\n",
    "\n",
    "print(s.str.count('b'))\n",
    "print(df['key2'].str.upper())\n",
    "print('-----')\n",
    "# 直接通过.str调用字符串方法\n",
    "# 可以对Series、Dataframe使用\n",
    "# 自动过滤NaN值\n",
    "\n",
    "df.columns = df.columns.str.upper()\n",
    "print(df)\n",
    "# df.columns是一个Index对象，也可使用.str"
   ],
   "outputs": [],
   "metadata": {}
  },
  {
   "cell_type": "code",
   "execution_count": null,
   "source": [
    "# 字符串常用方法（1） - lower，upper，len，startswith，endswith\n",
    "\n",
    "s = pd.Series(['A','b','bbhello','123',np.nan])\n",
    "\n",
    "print(s.str.lower(),'→ lower小写\\n')\n",
    "print(s.str.upper(),'→ upper大写\\n')\n",
    "print(s.str.len(),'→ len字符长度\\n')\n",
    "print(s.str.startswith('b'),'→ 判断起始是否为a\\n')\n",
    "print(s.str.endswith('3'),'→ 判断结束是否为3\\n')"
   ],
   "outputs": [],
   "metadata": {}
  },
  {
   "cell_type": "code",
   "execution_count": null,
   "source": [
    "# 字符串常用方法（2） - strip\n",
    "\n",
    "s = pd.Series([' jack', 'jill ', ' jesse ', 'frank'])\n",
    "df = pd.DataFrame(np.random.randn(3, 2), columns=[' Column A ', ' Column B '],\n",
    "                  index=range(3))\n",
    "print(s)\n",
    "print(df)\n",
    "print('-----')\n",
    "\n",
    "print(s.str.strip())  # 去除字符串中的空格\n",
    "print(s.str.lstrip())  # 去除字符串中的左空格\n",
    "print(s.str.rstrip())  # 去除字符串中的右空格\n",
    "\n",
    "df.columns = df.columns.str.strip()\n",
    "print(df)\n",
    "# 这里去掉了columns的前后空格，但没有去掉中间空格"
   ],
   "outputs": [],
   "metadata": {}
  },
  {
   "cell_type": "code",
   "execution_count": null,
   "source": [
    "# 字符串常用方法（3） - replace\n",
    "\n",
    "df = pd.DataFrame(np.random.randn(3, 2), columns=[' Column A ', ' Column B '],\n",
    "                  index=range(3))\n",
    "df.columns = df.columns.str.replace(' ','-')\n",
    "print(df)\n",
    "# 替换\n",
    "\n",
    "df.columns = df.columns.str.replace('-','hehe',n=1)\n",
    "print(df)\n",
    "# n：替换个数"
   ],
   "outputs": [],
   "metadata": {}
  },
  {
   "cell_type": "code",
   "execution_count": null,
   "source": [
    "# 字符串常用方法（4） - split、rsplit\n",
    "\n",
    "s = pd.Series(['a,b,c','1,2,3',['a,,,c'],np.nan])\n",
    "print(s.str.split(','))\n",
    "print('-----')\n",
    "# 类似字符串的split\n",
    "\n",
    "print(s.str.split(',')[0])\n",
    "print('-----')\n",
    "# 直接索引得到一个list\n",
    "\n",
    "print(s.str.split(',').str[0])\n",
    "print(s.str.split(',').str.get(1))\n",
    "print('-----')\n",
    "# 可以使用get或[]符号访问拆分列表中的元素\n",
    "\n",
    "print(s.str.split(',', expand=True))\n",
    "print(s.str.split(',', expand=True, n = 1))\n",
    "print(s.str.rsplit(',', expand=True, n = 1))\n",
    "print('-----')\n",
    "# 可以使用expand可以轻松扩展此操作以返回DataFrame\n",
    "# n参数限制分割数\n",
    "# rsplit类似于split，反向工作，即从字符串的末尾到字符串的开头\n",
    "\n",
    "df = pd.DataFrame({'key1':['a,b,c','1,2,3',[':,., ']],\n",
    "                  'key2':['a-b-c','1-2-3',[':-.- ']]})\n",
    "print(df['key2'].str.split('-'))\n",
    "# Dataframe使用split"
   ],
   "outputs": [],
   "metadata": {}
  },
  {
   "cell_type": "code",
   "execution_count": null,
   "source": [
    "# 字符串索引\n",
    "\n",
    "s = pd.Series(['A','b','C','bbhello','123',np.nan,'hj'])\n",
    "df = pd.DataFrame({'key1':list('abcdef'),\n",
    "                  'key2':['hee','fv','w','hija','123',np.nan]})\n",
    "\n",
    "print(s.str[0])  # 取第一个字符串\n",
    "print(s.str[:2])  # 取前两个字符串\n",
    "print(df['key2'].str[0]) \n",
    "# str之后和字符串本身索引方式相同"
   ],
   "outputs": [],
   "metadata": {}
  },
  {
   "cell_type": "markdown",
   "source": [
    "## 合并 merge、join"
   ],
   "metadata": {}
  },
  {
   "cell_type": "markdown",
   "source": [
    "·  Pandas具有全功能的，高性能内存中连接操作，与SQL等关系数据库非常相似"
   ],
   "metadata": {}
  },
  {
   "cell_type": "code",
   "execution_count": null,
   "source": [
    "# merge合并 → 类似excel的vlookup\n",
    "\n",
    "df1 = pd.DataFrame({'key': ['K0', 'K1', 'K2', 'K3'],\n",
    "                     'A': ['A0', 'A1', 'A2', 'A3'],\n",
    "                     'B': ['B0', 'B1', 'B2', 'B3']})\n",
    "df2 = pd.DataFrame({'key': ['K0', 'K1', 'K2', 'K3'],\n",
    "                      'C': ['C0', 'C1', 'C2', 'C3'],\n",
    "                      'D': ['D0', 'D1', 'D2', 'D3']})\n",
    "df3 = pd.DataFrame({'key1': ['K0', 'K0', 'K1', 'K2'],\n",
    "                    'key2': ['K0', 'K1', 'K0', 'K1'],\n",
    "                    'A': ['A0', 'A1', 'A2', 'A3'],\n",
    "                    'B': ['B0', 'B1', 'B2', 'B3']})\n",
    "df4 = pd.DataFrame({'key1': ['K0', 'K1', 'K1', 'K2'],\n",
    "                    'key2': ['K0', 'K0', 'K0', 'K0'],\n",
    "                    'C': ['C0', 'C1', 'C2', 'C3'],\n",
    "                    'D': ['D0', 'D1', 'D2', 'D3']})\n",
    "print(pd.merge(df1, df2, on='key'))\n",
    "print('------')\n",
    "# left：第一个df\n",
    "# right：第二个df\n",
    "# on：参考键\n",
    "\n",
    "print(pd.merge(df3, df4, on=['key1','key2']))\n",
    "# 多个链接键"
   ],
   "outputs": [],
   "metadata": {}
  },
  {
   "cell_type": "code",
   "execution_count": null,
   "source": [
    "# 参数how → 合并方式\n",
    "\n",
    "print(pd.merge(df3, df4,on=['key1','key2'], how = 'inner'))  \n",
    "print('------')\n",
    "# inner：默认，取交集\n",
    "\n",
    "print(pd.merge(df3, df4, on=['key1','key2'], how = 'outer'))  \n",
    "print('------')\n",
    "# outer：取并集，数据缺失范围NaN\n",
    "\n",
    "print(pd.merge(df3, df4, on=['key1','key2'], how = 'left'))  \n",
    "print('------')\n",
    "# left：按照df3为参考合并，数据缺失范围NaN\n",
    "\n",
    "print(pd.merge(df3, df4, on=['key1','key2'], how = 'right'))  \n",
    "# right：按照df4为参考合并，数据缺失范围NaN"
   ],
   "outputs": [],
   "metadata": {}
  },
  {
   "cell_type": "code",
   "execution_count": null,
   "source": [
    "# 参数 left_on, right_on, left_index, right_index → 当键不为一个列时，可以单独设置左键与右键\n",
    "\n",
    "df1 = pd.DataFrame({'lkey':list('bbacaab'),\n",
    "                   'data1':range(7)})\n",
    "df2 = pd.DataFrame({'rkey':list('abd'),\n",
    "                   'date2':range(3)})\n",
    "print(pd.merge(df1, df2, left_on='lkey', right_on='rkey'))\n",
    "print('------')\n",
    "# df1以‘lkey’为键，df2以‘rkey’为键\n",
    "\n",
    "df1 = pd.DataFrame({'key':list('abcdfeg'),\n",
    "                   'data1':range(7)})\n",
    "df2 = pd.DataFrame({'date2':range(100,105)},\n",
    "                  index = list('abcde'))\n",
    "print(pd.merge(df1, df2, left_on='key', right_index=True))\n",
    "# df1以‘key’为键，df2以index为键\n",
    "# left_index：为True时，第一个df以index为键，默认False\n",
    "# right_index：为True时，第二个df以index为键，默认False\n",
    "\n",
    "# 所以left_on, right_on, left_index, right_index可以相互组合：\n",
    "# left_on + right_on, left_on + right_index, left_index + right_on, left_index + right_index"
   ],
   "outputs": [],
   "metadata": {}
  },
  {
   "cell_type": "code",
   "execution_count": null,
   "source": [
    "# 参数 sort\n",
    "\n",
    "df1 = pd.DataFrame({'key':list('bbacaab'),\n",
    "                   'data1':[1,3,2,4,5,9,7]})\n",
    "df2 = pd.DataFrame({'key':list('abd'),\n",
    "                   'date2':[11,2,33]})\n",
    "x1 = pd.merge(df1,df2, on = 'key', how = 'outer')\n",
    "x2 = pd.merge(df1,df2, on = 'key', sort=True, how = 'outer')\n",
    "print(x1)\n",
    "print(x2)\n",
    "print('------')\n",
    "# sort：按照字典顺序通过 连接键 对结果DataFrame进行排序。默认为False，设置为False会大幅提高性能\n",
    "\n",
    "print(x2.sort_values('data1'))\n",
    "# 也可直接用Dataframe的排序方法：sort_values，sort_index"
   ],
   "outputs": [],
   "metadata": {}
  },
  {
   "cell_type": "code",
   "execution_count": null,
   "source": [
    "# pd.join() → 直接通过索引链接\n",
    "\n",
    "left = pd.DataFrame({'A': ['A0', 'A1', 'A2'],\n",
    "                     'B': ['B0', 'B1', 'B2']},\n",
    "                    index=['K0', 'K1', 'K2'])\n",
    "right = pd.DataFrame({'C': ['C0', 'C2', 'C3'],\n",
    "                      'D': ['D0', 'D2', 'D3']},\n",
    "                     index=['K0', 'K2', 'K3'])\n",
    "print(left)\n",
    "print(right)\n",
    "print(left.join(right))\n",
    "print(left.join(right, how='outer'))  \n",
    "print('-----')\n",
    "# 等价于：pd.merge(left, right, left_index=True, right_index=True, how='outer')\n",
    "\n",
    "df1 = pd.DataFrame({'key':list('bbacaab'),\n",
    "                   'data1':[1,3,2,4,5,9,7]})\n",
    "df2 = pd.DataFrame({'key':list('abd'),\n",
    "                   'date2':[11,2,33]})\n",
    "print(df1)\n",
    "print(df2)\n",
    "print(pd.merge(df1, df2, left_index=True, right_index=True, suffixes=('_1', '_2')))  \n",
    "print(df1.join(df2['date2']))\n",
    "print('-----')\n",
    "# suffixes=('_x', '_y')默认\n",
    "\n",
    "left = pd.DataFrame({'A': ['A0', 'A1', 'A2', 'A3'],\n",
    "                     'B': ['B0', 'B1', 'B2', 'B3'],\n",
    "                     'key': ['K0', 'K1', 'K0', 'K1']})\n",
    "right = pd.DataFrame({'C': ['C0', 'C1'],\n",
    "                      'D': ['D0', 'D1']},\n",
    "                     index=['K0', 'K1'])\n",
    "print(left)\n",
    "print(right)\n",
    "print(left.join(right, on = 'key'))\n",
    "# 等价于pd.merge(left, right, left_on='key', right_index=True, how='left', sort=False);\n",
    "# left的‘key’和right的index"
   ],
   "outputs": [],
   "metadata": {}
  },
  {
   "cell_type": "markdown",
   "source": [
    "## 连接与修补 concat、combine_first"
   ],
   "metadata": {}
  },
  {
   "cell_type": "markdown",
   "source": [
    "·  连接 - 沿轴执行连接操作"
   ],
   "metadata": {}
  },
  {
   "cell_type": "code",
   "execution_count": null,
   "source": [
    "# 连接：concat\n",
    "\n",
    "s1 = pd.Series([1,2,3])\n",
    "s2 = pd.Series([2,3,4])\n",
    "s3 = pd.Series([1,2,3],index = ['a','c','h'])\n",
    "s4 = pd.Series([2,3,4],index = ['b','e','d'])\n",
    "print(pd.concat([s1,s2]))\n",
    "print(pd.concat([s3,s4]).sort_index())\n",
    "print('-----')\n",
    "# 默认axis=0，行+行\n",
    "\n",
    "print(pd.concat([s3,s4], axis=1))\n",
    "print('-----')\n",
    "# axis=1,列+列，成为一个Dataframe"
   ],
   "outputs": [],
   "metadata": {}
  },
  {
   "cell_type": "code",
   "execution_count": 47,
   "source": [
    "# 连接方式：join\n",
    "\n",
    "s5 = pd.Series([1,2,3],index = ['a','b','c'])\n",
    "s6 = pd.Series([2,3,4],index = ['b','c','d'])\n",
    "print(pd.concat([s5,s6], axis= 1))\n",
    "print(pd.concat([s5,s6], axis= 1, join='inner'))\n",
    "# join：{'inner'，'outer'}，默认为“outer”。如何处理其他轴上的索引。outer为联合和inner为交集。"
   ],
   "outputs": [
    {
     "output_type": "stream",
     "name": "stdout",
     "text": [
      "     0    1\n",
      "a  1.0  NaN\n",
      "b  2.0  2.0\n",
      "c  3.0  3.0\n",
      "d  NaN  4.0\n",
      "   0  1\n",
      "b  2  2\n",
      "c  3  3\n"
     ]
    }
   ],
   "metadata": {}
  },
  {
   "cell_type": "code",
   "execution_count": null,
   "source": [
    "# 覆盖列名\n",
    "\n",
    "sre = pd.concat([s5,s6], keys = ['one','two'])\n",
    "print(sre,type(sre))\n",
    "print(sre.index)\n",
    "print('-----')\n",
    "# keys：序列，默认值无。使用传递的键作为最外层构建层次索引\n",
    "\n",
    "sre = pd.concat([s5,s6], axis=1, keys = ['one','two'])\n",
    "print(sre,type(sre))\n",
    "# axis = 1, 覆盖列名\n"
   ],
   "outputs": [],
   "metadata": {}
  },
  {
   "cell_type": "code",
   "execution_count": null,
   "source": [
    "# 修补 pd.combine_first()\n",
    "\n",
    "df1 = pd.DataFrame([[np.nan, 3., 5.], [-4.6, np.nan, np.nan],[np.nan, 7., np.nan]])\n",
    "df2 = pd.DataFrame([[-42.6, np.nan, -8.2], [-5., 1.6, 4]],index=[1, 2])\n",
    "print(df1)\n",
    "print(df2)\n",
    "print(df1.combine_first(df2))\n",
    "print('-----')\n",
    "# 根据index，df1的空值被df2替代\n",
    "# 如果df2的index多于df1，则更新到df1上，比如index=['a',1]\n",
    "\n",
    "df1.update(df2)\n",
    "print(df1)\n",
    "# update，直接df2覆盖df1，相同index位置"
   ],
   "outputs": [],
   "metadata": {}
  },
  {
   "cell_type": "markdown",
   "source": [
    "## 去重及替换"
   ],
   "metadata": {}
  },
  {
   "cell_type": "markdown",
   "source": [
    "·  .duplicated / .replace"
   ],
   "metadata": {}
  },
  {
   "cell_type": "code",
   "execution_count": null,
   "source": [
    "# 去重 .duplicated\n",
    "\n",
    "s = pd.Series([1,1,1,1,2,2,2,3,4,5,5,5,5])\n",
    "print(s.duplicated())\n",
    "print(s[s.duplicated() == False])\n",
    "print('-----')\n",
    "# 判断是否重复\n",
    "# 通过布尔判断，得到不重复的值\n",
    "\n",
    "s_re = s.drop_duplicates()\n",
    "print(s_re)\n",
    "print('-----')\n",
    "# drop.duplicates移除重复\n",
    "# inplace参数：是否替换原值，默认False\n",
    "\n",
    "df = pd.DataFrame({'key1':['a','a',3,4,5],\n",
    "                  'key2':['a','a','b','b','c']})\n",
    "print(df.duplicated())\n",
    "print(df['key2'].duplicated())\n",
    "# Dataframe中使用duplicated\n"
   ],
   "outputs": [],
   "metadata": {}
  },
  {
   "cell_type": "code",
   "execution_count": null,
   "source": [
    "# 替换 .replace\n",
    "\n",
    "s = pd.Series(list('ascaazsd'))\n",
    "print(s.replace('a', np.nan))\n",
    "print(s.replace(['a','s'] ,np.nan))\n",
    "print(s.replace({'a':'hello world!','s':123}))\n",
    "# 可一次性替换一个值或多个值\n",
    "# 可传入列表或字典"
   ],
   "outputs": [],
   "metadata": {}
  },
  {
   "cell_type": "markdown",
   "source": [
    "## 数据分组"
   ],
   "metadata": {}
  },
  {
   "cell_type": "markdown",
   "source": [
    "分组统计 - groupby功能\n",
    "\n",
    "① 根据某些条件将数据拆分成组  \n",
    "② 对每个组独立应用函数  \n",
    "③ 将结果合并到一个数据结构中  \n",
    "\n",
    "Dataframe在行（axis=0）或列（axis=1）上进行分组，将一个函数应用到各个分组并产生一个新值，然后函数执行结果被合并到最终的结果对象中。"
   ],
   "metadata": {}
  },
  {
   "cell_type": "code",
   "execution_count": null,
   "source": [
    "# 分组\n",
    "\n",
    "df = pd.DataFrame({'A' : ['foo', 'bar', 'foo', 'bar','foo', 'bar', 'foo', 'foo'],\n",
    "                   'B' : ['one', 'one', 'two', 'three', 'two', 'two', 'one', 'three'],\n",
    "                   'C' : np.random.randn(8),\n",
    "                   'D' : np.random.randn(8)})\n",
    "print(df)\n",
    "print('------')\n",
    "\n",
    "print(df.groupby('A'), type(df.groupby('A')))\n",
    "print('------')\n",
    "# 直接分组得到一个groupby对象，是一个中间数据，没有进行计算\n",
    "\n",
    "a = df.groupby('A').mean()\n",
    "b = df.groupby(['A','B']).mean()\n",
    "c = df.groupby(['A'])['D'].mean()  # 以A分组，算D的平均值\n",
    "print(a,type(a),'\\n',a.columns)\n",
    "print(b,type(b),'\\n',b.columns)\n",
    "print(c,type(c))\n",
    "# 通过分组后的计算，得到一个新的dataframe\n",
    "# 默认axis = 0，以行来分组\n",
    "# 可单个或多个（[]）列分组"
   ],
   "outputs": [],
   "metadata": {}
  },
  {
   "cell_type": "code",
   "execution_count": null,
   "source": [
    "# 分组 - 可迭代对象\n",
    "\n",
    "df = pd.DataFrame({'X' : ['A', 'B', 'A', 'B'], 'Y' : [1, 4, 3, 2]})\n",
    "print(df)\n",
    "print(df.groupby('X'), type(df.groupby('X')))\n",
    "print('-----')\n",
    "\n",
    "print(list(df.groupby('X')), '→ 可迭代对象，直接生成list\\n')\n",
    "print(list(df.groupby('X'))[0], '→ 以元祖形式显示\\n')\n",
    "for n,g in df.groupby('X'):\n",
    "    print(n)\n",
    "    print(g)\n",
    "    print('###')\n",
    "print('-----')\n",
    "# n是组名，g是分组后的Dataframe\n",
    "\n",
    "print(df.groupby(['X']).get_group('A'),'\\n')\n",
    "print(df.groupby(['X']).get_group('B'),'\\n')\n",
    "print('-----')\n",
    "# .get_group()提取分组后的组\n",
    "\n",
    "grouped = df.groupby(['X'])\n",
    "print(grouped.groups)\n",
    "print(grouped.groups['A'])  # 也可写：df.groupby('X').groups['A']\n",
    "print('-----')\n",
    "# .groups：将分组后的groups转为dict\n",
    "# 可以字典索引方法来查看groups里的元素\n",
    "\n",
    "sz = grouped.size()\n",
    "print(sz,type(sz))\n",
    "print('-----')\n",
    "# .size()：查看分组后的长度\n",
    "\n",
    "df = pd.DataFrame({'A' : ['foo', 'bar', 'foo', 'bar','foo', 'bar', 'foo', 'foo'],\n",
    "                   'B' : ['one', 'one', 'two', 'three', 'two', 'two', 'one', 'three'],\n",
    "                   'C' : np.random.randn(8),\n",
    "                   'D' : np.random.randn(8)})\n",
    "grouped = df.groupby(['A','B']).groups\n",
    "print(df)\n",
    "print(grouped)\n",
    "print(grouped[('foo', 'three')])\n",
    "# 按照两个列进行分组"
   ],
   "outputs": [],
   "metadata": {}
  },
  {
   "cell_type": "code",
   "execution_count": null,
   "source": [
    "# 其他轴上的分组\n",
    "\n",
    "df = pd.DataFrame({'data1':np.random.rand(2),\n",
    "                  'data2':np.random.rand(2),\n",
    "                  'key1':['a','b'],\n",
    "                  'key2':['one','two']})\n",
    "print(df)\n",
    "print(df.dtypes)\n",
    "print('-----')\n",
    "for n,p in df.groupby(df.dtypes, axis=1):\n",
    "    print(n)\n",
    "    print(p)\n",
    "    print('##')\n",
    "# 按照值类型分列"
   ],
   "outputs": [],
   "metadata": {}
  },
  {
   "cell_type": "code",
   "execution_count": null,
   "source": [
    "# 通过字典或者Series分组\n",
    "\n",
    "df = pd.DataFrame(np.arange(16).reshape(4,4),\n",
    "                  columns = ['a','b','c','d'])\n",
    "print(df)\n",
    "print('-----')\n",
    "\n",
    "mapping = {'a':'one','b':'one','c':'two','d':'two','e':'three'}\n",
    "by_column = df.groupby(mapping, axis = 1)\n",
    "print(by_column.sum())\n",
    "print('-----')\n",
    "# mapping中，a、b列对应的为one，c、d列对应的为two，以字典来分组\n",
    "\n",
    "s = pd.Series(mapping)\n",
    "print(s,'\\n')\n",
    "print(s.groupby(s).count())\n",
    "# s中，index中a、b对应的为one，c、d对应的为two，以Series来分组"
   ],
   "outputs": [],
   "metadata": {}
  },
  {
   "cell_type": "code",
   "execution_count": null,
   "source": [
    "# 通过函数分组\n",
    "\n",
    "df = pd.DataFrame(np.arange(16).reshape(4,4),\n",
    "                  columns = ['a','b','c','d'],\n",
    "                 index = ['abc','bcd','aa','b'])\n",
    "print(df,'\\n')\n",
    "print(df.groupby(len).sum())\n",
    "# 按照字母长度分组"
   ],
   "outputs": [],
   "metadata": {}
  },
  {
   "cell_type": "code",
   "execution_count": null,
   "source": [
    "# 分组计算函数方法\n",
    "\n",
    "s = pd.Series([1, 2, 3, 10, 20, 30], index = [1, 2, 3, 1, 2, 3])\n",
    "grouped = s.groupby(level=0)  # 唯一索引用.groupby(level=0)，将同一个index的分为一组\n",
    "print(grouped)\n",
    "print(grouped.first(),'→ first：非NaN的第一个值\\n')\n",
    "print(grouped.last(),'→ last：非NaN的最后一个值\\n')\n",
    "print(grouped.sum(),'→ sum：非NaN的和\\n')\n",
    "print(grouped.mean(),'→ mean：非NaN的平均值\\n')\n",
    "print(grouped.median(),'→ median：非NaN的算术中位数\\n')\n",
    "print(grouped.count(),'→ count：非NaN的值\\n')\n",
    "print(grouped.min(),'→ min、max：非NaN的最小值、最大值\\n')\n",
    "print(grouped.std(),'→ std，var：非NaN的标准差和方差\\n')\n",
    "print(grouped.prod(),'→ prod：非NaN的积\\n')"
   ],
   "outputs": [],
   "metadata": {}
  },
  {
   "cell_type": "code",
   "execution_count": null,
   "source": [
    "# 多函数计算：agg()\n",
    "\n",
    "df = pd.DataFrame({'a':[1,1,2,2],\n",
    "                  'b':np.random.rand(4),\n",
    "                  'c':np.random.rand(4),\n",
    "                  'd':np.random.rand(4),})\n",
    "print(df)\n",
    "print(df.groupby('a').agg(['mean',np.sum]))\n",
    "print(df.groupby('a')['b'].agg([\n",
    "                                ('result1','mean'),\n",
    "                                ('result2','sum')]).reset_index())\n",
    "# 函数写法可以用str，或者np.方法\n",
    "# 可以通过list，dict传入，当用dict时，key名为columns"
   ],
   "outputs": [],
   "metadata": {}
  },
  {
   "cell_type": "markdown",
   "source": [
    "## 分组转换及一般性“拆分-应用-合并”"
   ],
   "metadata": {}
  },
  {
   "cell_type": "markdown",
   "source": [
    "· transform / apply"
   ],
   "metadata": {}
  },
  {
   "cell_type": "code",
   "execution_count": null,
   "source": [
    "# 数据分组转换,transform\n",
    "\n",
    "df = pd.DataFrame({'data1':np.random.rand(5),\n",
    "                  'data2':np.random.rand(5),\n",
    "                  'key1':list('aabba'),\n",
    "                  'key2':['one','two','one','two','one']})\n",
    "k_mean = df.groupby('key1').mean()\n",
    "print(df)\n",
    "print(k_mean)\n",
    "print(pd.merge(df,k_mean,left_on='key1',right_index=True).add_prefix('mean_'))  # .add_prefix('mean_')：添加前缀\n",
    "print('-----')\n",
    "# 通过分组、合并，得到一个包含均值的Dataframe\n",
    "\n",
    "print(df.groupby('key2').mean()) # 按照key2分组求均值\n",
    "print(df.groupby('key2').transform(np.mean))\n",
    "# data1、data2每个位置元素取对应分组列的均值\n",
    "# 字符串不能进行计算"
   ],
   "outputs": [],
   "metadata": {}
  },
  {
   "cell_type": "code",
   "execution_count": null,
   "source": [
    "# 一般化Groupby方法：apply\n",
    "\n",
    "df = pd.DataFrame({'data1':np.random.rand(5),\n",
    "                  'data2':np.random.rand(5),\n",
    "                  'key1':list('aabba'),\n",
    "                  'key2':['one','two','one','two','one']})\n",
    "\n",
    "print(df.groupby('key1').apply(lambda x: x.describe()))\n",
    "# apply直接运行其中的函数\n",
    "# 这里为匿名函数，直接描述分组后的统计量\n"
   ],
   "outputs": [],
   "metadata": {}
  },
  {
   "cell_type": "markdown",
   "source": [
    "## 透视表及交叉表"
   ],
   "metadata": {}
  },
  {
   "cell_type": "markdown",
   "source": [
    "· 类似excel数据透视 - pivot table / crosstab"
   ],
   "metadata": {}
  },
  {
   "cell_type": "code",
   "execution_count": null,
   "source": [
    "# 透视表：pivot_table\n",
    "# pd.pivot_table(data, values=None, index=None, columns=None, aggfunc='mean', fill_value=None, margins=False, dropna=True, margins_name='All')\n",
    "\n",
    "date = ['2017-5-1','2017-5-2','2017-5-3']*3\n",
    "rng = pd.to_datetime(date)\n",
    "df = pd.DataFrame({'date':rng,\n",
    "                   'key':list('abcdabcda'),\n",
    "                  'values':np.random.rand(9)*10})\n",
    "print(df)\n",
    "print('-----')\n",
    "\n",
    "print(pd.pivot_table(df, values = 'values', index = 'date', columns = 'key', aggfunc=np.sum))  # 也可以写 aggfunc='sum'\n",
    "print('-----')\n",
    "# data：DataFrame对象\n",
    "# values：要聚合的列或列的列表\n",
    "# index：数据透视表的index，从原数据的列中筛选\n",
    "# columns：数据透视表的columns，从原数据的列中筛选\n",
    "# aggfunc：用于聚合的函数，默认为numpy.mean，支持numpy计算方法\n",
    "\n",
    "print(pd.pivot_table(df, values = 'values', index = ['date','key'], aggfunc=len))\n",
    "print('-----')\n",
    "# 这里就分别以date、key共同做数据透视，值为values：统计不同（date，key）情况下values的平均值\n",
    "# aggfunc=len(或者count)：计数"
   ],
   "outputs": [],
   "metadata": {}
  },
  {
   "cell_type": "code",
   "execution_count": null,
   "source": [
    "# 交叉表：crosstab\n",
    "# 默认情况下，crosstab计算因子的频率表，比如用于str的数据透视分析\n",
    "# pd.crosstab(index, columns, values=None, rownames=None, colnames=None, aggfunc=None, margins=False, dropna=True, normalize=False)\n",
    "\n",
    "df = pd.DataFrame({'A': [1, 2, 2, 2, 2],\n",
    "                   'B': [3, 3, 4, 4, 4],\n",
    "                   'C': [1, 1, np.nan, 1, 1]})\n",
    "print(df)\n",
    "print('-----')\n",
    "\n",
    "print(pd.crosstab(df['A'],df['B']))\n",
    "print('-----')\n",
    "# 如果crosstab只接收两个Series，它将提供一个频率表。\n",
    "# 用A的唯一值，统计B唯一值的出现次数\n",
    "\n",
    "print(pd.crosstab(df['A'],df['B'],normalize=True))\n",
    "print('-----')\n",
    "# normalize：默认False，将所有值除以值的总和进行归一化 → 为True时候显示百分比\n",
    "\n",
    "print(pd.crosstab(df['A'],df['B'],values=df['C'],aggfunc=np.sum))\n",
    "print('-----')\n",
    "# values：可选，根据因子聚合的值数组\n",
    "# aggfunc：可选，如果未传递values数组，则计算频率表，如果传递数组，则按照指定计算\n",
    "# 这里相当于以A和B界定分组，计算出每组中第三个系列C的值\n",
    "\n",
    "print(pd.crosstab(df['A'],df['B'],values=df['C'],aggfunc=np.sum, margins=True))\n",
    "print('-----')\n",
    "# margins：布尔值，默认值False，添加行/列边距（小计）"
   ],
   "outputs": [],
   "metadata": {}
  },
  {
   "cell_type": "markdown",
   "source": [
    "## 数据读取"
   ],
   "metadata": {}
  },
  {
   "cell_type": "markdown",
   "source": [
    "·  核心：read_table, read_csv, read_excel"
   ],
   "metadata": {}
  },
  {
   "cell_type": "code",
   "execution_count": null,
   "source": [
    "# 读取普通分隔数据：read_table\n",
    "# 可以读取txt，csv\n",
    "\n",
    "import os\n",
    "os.chdir('/Users/shizheng/Desktop/数据分析/')\n",
    "\n",
    "data1 = pd.read_table('array.txt', delimiter=',',header = 0, index_col=1)\n",
    "print(data1)\n",
    "# delimiter：用于拆分的字符，也可以用sep：sep = ','\n",
    "# header：用做列名的序号，默认为0（第一行）\n",
    "# index_col：指定某列为行索引，否则自动索引0, 1, .....\n",
    "\n",
    "# read_table主要用于读取简单的数据，txt/csv"
   ],
   "outputs": [],
   "metadata": {}
  },
  {
   "cell_type": "code",
   "execution_count": null,
   "source": [
    "# 读取csv数据：read_csv\n",
    "# 先熟悉一下excel怎么导出csv\n",
    "\n",
    "data2 = pd.read_csv('',engine = 'python')\n",
    "print(data2.head())\n",
    "# engine：使用的分析引擎。可以选择C或者是python。C引擎快但是Python引擎功能更加完备。\n",
    "# encoding：指定字符集类型，即编码，通常指定为'utf-8'\n",
    "\n",
    "# 大多数情况先将excel导出csv，再读取"
   ],
   "outputs": [],
   "metadata": {}
  },
  {
   "cell_type": "code",
   "execution_count": null,
   "source": [
    "# 读取excel数据：read_excel\n",
    "\n",
    "data3 = pd.read_excel('',sheetname='',header=0)\n",
    "print(data3)\n",
    "# io ：文件路径。\n",
    "# sheetname：返回多表使用sheetname=[0,1],若sheetname=None是返回全表 → ① int/string 返回的是dataframe ②而none和list返回的是dict\n",
    "# header：指定列名行，默认0，即取第一行\n",
    "# index_col：指定列为索引列，也可以使用u”strings”"
   ],
   "outputs": [],
   "metadata": {}
  }
 ],
 "metadata": {
  "orig_nbformat": 4,
  "language_info": {
   "name": "python",
   "version": "3.8.3",
   "mimetype": "text/x-python",
   "codemirror_mode": {
    "name": "ipython",
    "version": 3
   },
   "pygments_lexer": "ipython3",
   "nbconvert_exporter": "python",
   "file_extension": ".py"
  },
  "kernelspec": {
   "name": "python3",
   "display_name": "Python 3.8.3 64-bit ('base': conda)"
  },
  "interpreter": {
   "hash": "dca0ade3e726a953b501b15e8e990130d2b7799f14cfd9f4271676035ebe5511"
  }
 },
 "nbformat": 4,
 "nbformat_minor": 2
}